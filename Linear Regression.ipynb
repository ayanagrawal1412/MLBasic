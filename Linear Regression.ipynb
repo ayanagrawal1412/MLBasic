{
  "cells": [
    {
      "cell_type": "markdown",
      "metadata": {
        "id": "view-in-github",
        "colab_type": "text"
      },
      "source": [
        "<a href=\"https://colab.research.google.com/github/ayanagrawal1412/MLBasic/blob/main/Linear%20Regression.ipynb\" target=\"_parent\"><img src=\"https://colab.research.google.com/assets/colab-badge.svg\" alt=\"Open In Colab\"/></a>"
      ]
    },
    {
      "cell_type": "code",
      "source": [
        "import os\n",
        "from google.colab import userdata\n",
        "os.environ['GITHUB'] = userdata.get('GITHUB')\n",
        "os.environ['GIT_USER'] = userdata.get('GIT_USER')\n",
        "os.environ['GIT_EMAIL'] = userdata.get('GIT_EMAIL')\n",
        "\n",
        "!git config --global credential.helper cache\n",
        "!git config --global user.name $GIT_USER\n",
        "!git config --global user.email $GIT_EMAIL"
      ],
      "metadata": {
        "id": "GxXjozTQaN5z"
      },
      "execution_count": 1,
      "outputs": []
    },
    {
      "cell_type": "code",
      "source": [
        " !git clone https://$GITHUB@github.com/ayanagrawal1412/MLBasic.git\n",
        " %cd MLBasic/"
      ],
      "metadata": {
        "collapsed": true,
        "id": "DMsSj1lKaRJU",
        "outputId": "d6acdf7c-7558-445a-dee6-a331b7d15f6f",
        "colab": {
          "base_uri": "https://localhost:8080/"
        }
      },
      "execution_count": 2,
      "outputs": [
        {
          "output_type": "stream",
          "name": "stdout",
          "text": [
            "Cloning into 'MLBasic'...\n",
            "remote: Enumerating objects: 57, done.\u001b[K\n",
            "remote: Counting objects: 100% (57/57), done.\u001b[K\n",
            "remote: Compressing objects: 100% (41/41), done.\u001b[K\n",
            "remote: Total 57 (delta 18), reused 53 (delta 16), pack-reused 0 (from 0)\u001b[K\n",
            "Receiving objects: 100% (57/57), 78.26 KiB | 7.83 MiB/s, done.\n",
            "Resolving deltas: 100% (18/18), done.\n",
            "/content/MLBasic\n"
          ]
        }
      ]
    },
    {
      "cell_type": "markdown",
      "metadata": {
        "id": "SW7ui7SYImqT"
      },
      "source": [
        "# Linear Regression\n",
        "\n",
        "## Math\n",
        "\n",
        "|Symbol| Meaning|\n",
        "|--|--|\n",
        "|$x$ | feature|\n",
        "|$y$ | target|\n",
        "|$w$ | slope for target vs feature graph or weight for single variable Linear Regression|\n",
        "|$b$ | intercept for target vs feature graph or bias|\n",
        "|$x^{(i)}$ | i<sup>th</sup> training example in case of Single Variable Linear Regression|\n",
        "|$\\hat y$ | estimated value of target|\n",
        "|$m$|No. of training examples|\n",
        "|$n$|No. of features in a single training example|\n",
        "|$x^{(i)}_j$ | j<sup>th</sup> feature of i<sup>th</sup> training example for Multiple Variable Linear Regression|\n",
        "\n",
        "Note on notations: Capital bold face used to denote Matrix (or 2d arrays); small bold face symbol to denote a vector (or 1d array) and when used in matrix equations, can be used to denote a single column matrix."
      ]
    },
    {
      "cell_type": "markdown",
      "metadata": {
        "id": "4RmYpxcgImqV"
      },
      "source": [
        "\n",
        "**Model Representation** (sometimes called a hypothesis function):\n",
        "\n",
        "For a single featured training set:\n",
        "\\begin{align*} f(x^{(i)}) &= \\hat {y^{(i)}} \\\\\n",
        "f_{wb}(x^{(i)}) &= wx^{(i)} + b \\tag{1} \\end{align*}\n",
        "\n",
        "**Mean Squared Error (MSE)** Cost\n",
        "\\begin{align*}J &= \\sum_{i=1}^{m} \\frac{(f(x^{(i)})-y^{(i)})^2}{2m} \\tag{2} \\\\\n",
        "J_{wb} &= \\sum_{i=1}^{m} \\frac{(wx^{(i)} + b-y^{(i)})^2}{2m} \\tag{3} \\end{align*}\n",
        "\n",
        "To find $w$ and $b$, and thus the estimator function we must minimize cost ( $J$ ) wrt $w$ and $b$."
      ]
    },
    {
      "cell_type": "markdown",
      "metadata": {
        "id": "aZN3671kImqV"
      },
      "source": [
        "For an intuition for Mean Squared Error Cost function consider this - to approximate a bunch of numbers by a single number we often cite the data's average or arithmetic mean.\n",
        "\n",
        "We could use median too but it takes more effort to calculate median as it requires sorting the numbers and then picking the middle one. But in some cases median is more suited and we must pick median over mean. (Example- salaries of individuals in a population are often skewed to the right and median is more apt to report which confirms to us that atleast half the population is earning more than the reported number - 'median' and the other half is earning less than this. With mean we can't make such statements, all we can say that total salary divided by total number of individuals is whats being reported as mean.)\n",
        "\n",
        "So now getting back to mean:\n",
        "\n",
        "**Mean is the point from which the arithmetic sum of differences from all the numbers is zero.**\n",
        "\n",
        "Let $\\bar x$ denote the mean of a set of scalar $x^{(i)}$\n",
        "\n",
        "$$ \\sum_{i=1}^{m} (x^{(i)}-\\bar x) = \\sum_{i=1}^{m}x^{(i)} - m\\bar x = \\sum_{i=1}^{m}x^{(i)}- \\sum_{i=1}^{m}x^{(i)} = 0$$"
      ]
    },
    {
      "cell_type": "markdown",
      "metadata": {
        "id": "zzJgLxh4ImqV"
      },
      "source": [
        "So since the mean has this nice property that total deviations from the mean is zero which also gives us some motivation to use it to summarize - basically if we use mean our total deviations or algebraic sum of errors go to zero. But the same property inhibits us from using the sum of deviations from the mean as a measure of variability within the data.\n",
        "\n",
        "What we could do is take the absoulte deviations. (We'll see this later)\n",
        "\n",
        "The other option is to square the deviations so as to get rid of the signs of the deviations and then sum it. A measure obtained by doing exactly this, is whats called **variance** specifically - the **Mean of Squared Deviations** or **MSD**. Note that for variance calculation the deviations are always considered from the mean.\n",
        "\n",
        "Now since variance has the units which are square of the original quantity, we often take the square root of variance to get standard deviation which is essentially Root of Mean Squared Deviations (**RMSD**).\n",
        "\n",
        "What if we consider the squared deviations from any other number - say median or just some other number, we'll see below that in that case, the total deviations would be larger than that taken from mean. That is **sum of squared deviations is minimum when deviations are considered from or around mean**\n",
        "\n",
        "If we were to find a number, lets say $\\mu$, sum of squares of differences from which of all the numbers in a dataset, is to be minimized, we'd see that that number, is in fact, the mean. For this derivation, $\\mu$ is just some unknown number and not mean, ($\\bar x$ is what we use for mean here). But the derivation would prove that $\\mu$ would turn out to be same as $\\bar x$ or mean.\n",
        "\n",
        "To minimize $$ \\sum_{i=1}^{m} (x^{(i)}-\\mu)^2$$\n",
        "lets take the derivative of the above term wrt $\\mu$ and equate it to zero.\n",
        "\\begin{align*}\\dfrac{d}{d \\mu} \\left(\\sum_{i=1}^{m} (x^{(i)}-\\mu)^2\\right)=0 \\\\\n",
        "\\sum_{i=1}^{m} \\left(2(x^{(i)}-\\mu) \\cdot \\frac{d(x^{(i)}-\\mu)}{d \\mu}\\right) = 0 \\\\\n",
        "-2 \\sum_{i=1}^{m} (x^{(i)}-\\mu) = 0 \\\\\n",
        "\\sum_{i=1}^{m} (x^{(i)}-\\mu) = 0 \\\\\n",
        "\\Rightarrow \\mu = \\bar x\n",
        "\\end{align*}"
      ]
    },
    {
      "cell_type": "markdown",
      "metadata": {
        "id": "vYVQKJWQImqW"
      },
      "source": [
        "\n",
        "**Thus (arithmetic) mean is the point, sum of squares of differences from which of all the numbers in a dataset, is minimum.**\n",
        "\n",
        "So we've established that mean is useful for summarizing a bunch of data points by a single number. Or that if we see a bunch of data points and if we're asked to predict or estimate the next number then the best estimate we could give is mean (need to invoke a bit of probability theory to properly substantiate the last statement).\n",
        "\n",
        "But lets turn our attention back to deviations, we said for measuring the variability in the data, we could just add the absolute values of deviations instead of the squares of deviations. Total Absolute Deviations divided by total number of data points gives us **Mean Absolute Deviation** or **MAD**.\n",
        "\n",
        "So just a few lines back we said that squared deviations is minimum when the deviations are computed from the mean. Can we say the same for absolute deviations too - *NO*. So it seems if we were to find a number from which sum of absolute deviations is minimum then it would turn out to be the median of those numbers, thus\n",
        "\n",
        "**Median is the point, sum of absolute deviations (or distances) from which of all the numbers in a dataset is minimum.**\n",
        "\n",
        "Thus we can say it would make more sense to work with MAD and median together, just like we work with MSD and mean together. We want to give the lowest figure for variability, ie we mostly desire less variability, and MAD gives the lowest figure when deviations are considered around median, whereas MSD gives the lowest figure when deviations are considered around mean. Both MAD and MSD are measures of variability whereas mean and median are measures of where the data points are centered. As mentioned before, sometimes we use RMSD instead of MSD so that the units of the quantities all match with each other and it makes some expressions look neater.\n",
        "\n",
        "But just as median is a bit more difficult to work with than mean, Mean Absolute Differences is a bit more difficult to work with than Mean Squared Deviations (which is what Variance is if the deviations are taken from mean). One intuition of why MAD is difficult to work with is that the absolute function graph is non-differentiable at zero.\n",
        "\n",
        "Fun geometric fact - because arithmetic mean is that point, sum of squares of differences from which is minimum, if we're in a Eucleadian 2D plane, arithmetic mean of the x coordinates of the points gives us a number, sum of squares of differences of x coordinates of all the points from this number is minimum, and similarly the mean of y coordinates gives us a similar number. Together the arithmetic means of x and y coordinates is in fact the coordinates of the point where both the sums ie of squares of x differences and that of squares of y differences are minimum. Thus for this point the sum of these 2 sums would also be the minimum or this is the point on the plane from which sum of squares of distances (or differences) of all the points is minimum.\n",
        "\n",
        "Thus be it on a line or a plane and likewise in 3D or higher dimensions, arithmetic mean of coordinates of the points gives us the coordinates of the point from which sum of squared distances is minimum (we can also say sum of L2 Norms is minimum).\n",
        "\n",
        "*Note on L1 and L2 norms*: **L1 norm is the sum the absolute values of components of a vector. L2 norm is the square root of the sum of squares of components of a vector**. So what is the vector in the current discussion - the vector is that arrow that starts from the mean/median and goes towards the data point.\n",
        "\n",
        "On a line or 1D, L1 and L2 norm are same and median minimizes the sum of this from all the points but in case of 2D or higher dimensions, median only minimizes the sum of L1 norms ie for 2D or higher dimensions, median of the coordinates of the points gives us the point from which sum of L1 norms or sum of x and y distances over all points is minimized, ie not the sum of true geometric distances or sum of L2 norms is not minimized. The point that does that ie the point that minimizes sum of L2 norms is called the geometric median.\n",
        "\n",
        "**Thus arithmetic mean minimizes the sum of squared L2 norms, whereas geometric median minimizes the sum of L2 norms and the coordinate-wise median minimizes the sum of L1 norms.**\n",
        "\n",
        "The point about geometric median can be ignored as it is a bit unnecessary but it was important to discuss that mean of coordinates of data points gives us the point from which sum of squared distances of data points is minimum and this fact is used when we do K means clustering which is an essential starting point to learn Unsupervised Learning."
      ]
    },
    {
      "cell_type": "markdown",
      "metadata": {
        "id": "AVF84m5ZImqW"
      },
      "source": [
        "Coming back to the issue of cost function, we can think that just like the mean minimizes the sum of squared differences and zeroes out the sum of differences, we can, for the linear regression problem too try to pick a cost function that involves the sum of squared error terms and then try to minimize this hoping to net out or cancel the differences and most closely represent the data. We divide the sum of squared errors by the number of training examples to keep the cost bounded as it is expected that more the number of examples the greater is the sum of squared errors and dividing by $m$ helps us compare the costs between differently numbered training sets."
      ]
    },
    {
      "cell_type": "markdown",
      "metadata": {
        "id": "T9rpzKy-ImqW"
      },
      "source": [
        "Also note that while trying to approximate a bunch of numbers on a number line by a single number, when we chose mean it both minimizes the sum of squared errors and makes the algebraic sum of errors go to zero.\n",
        "In case of finding the staight line fit to the data for linear regression (in a single variable/feature) problem, making the sum of errors to zero alone (which gives the below equation) doesn't give us a unique solution.\n",
        "$$\\sum_{i=1}^{m} (wx^{(i)} + b-y^{(i)})=0$$\n",
        "Above equation has 2 unknowns ($w$ and $b$) and thus we need something more to uniquely find both $w$ and $b$. Thus we need MSE cost as we'll see that minimizing the MSE cost gives both the above equation and the additional info required to find $w$ and $b$."
      ]
    },
    {
      "cell_type": "markdown",
      "metadata": {
        "id": "dTYOe4i9ImqW"
      },
      "source": [
        "From eq (2) note that $J$ is quadratic in both $w$ and $b$"
      ]
    },
    {
      "cell_type": "markdown",
      "metadata": {
        "id": "7ywNTe__ImqW"
      },
      "source": [
        "\\begin{align*}\\frac {\\partial J}{\\partial w} &= \\sum_{i=1}^{m} \\frac {(wx^{(i)} + b-y^{(i)})x^{(i)}}{m}\\tag{4} \\\\\n",
        "\\frac {\\partial J}{\\partial b} &= \\sum_{i=1}^{m} \\frac {(wx^{(i)} + b-y^{(i)})}{m} \\tag{5} \\end{align*}\n",
        "\n",
        "Equating both the partial derivatives to zero we get:\n",
        "\\begin{align*} \\sum_{i=1}^{m} \\left((wx^{(i)} + b-y^{(i)})x^{(i)}\\right) &=0 \\tag{6} \\\\\n",
        "\\sum_{i=1}^{m} (wx^{(i)} + b-y^{(i)})&=0 \\tag{7} \\end{align*}\n",
        "\n",
        "Eq (7) is the one we wrote earlier when we set out to make the sum of error terms zero which we see now is 1 of the results of minimizing the MSE cost function. Together the above 2 equations give us the sufficient information info to solve for 2 unkowns $w$ and $b$"
      ]
    },
    {
      "cell_type": "markdown",
      "metadata": {
        "id": "1l1PVhbSImqW"
      },
      "source": [
        "### Vector and Matrix equations for Linear Regression\n",
        "For Multiple Variable Linear Regression, vectorially the equations are:\n",
        "\\begin{align*} f^{(i)} &= \\mathbf w \\cdot \\mathbf x^{(i)} + b \\tag{8}\\\\\n",
        "J &= \\sum_i \\frac {(f^{(i)}-y^{(i)})^2}{2m} \\tag{9}\\\\\n",
        "\\frac {\\partial J}{\\partial \\mathbf w} &= \\sum_i \\frac{(f^{(i)}-y^{(i)})\\mathbf x^{(i)}}{m} \\tag{10}\\\\\n",
        "\\frac {\\partial J}{\\partial b} &= \\sum_i \\frac{(f^{(i)}-y^{(i)})}{m} \\tag{11} \\end{align*}"
      ]
    },
    {
      "cell_type": "markdown",
      "metadata": {
        "id": "ZTLyqeRVImqW"
      },
      "source": [
        "If the training data set is given as a matrix where every training example is on a separate row, and j<sup>th</sup> column in a matrix represents the j<sup>th</sup> feature in every example, we can write following matrix equations:\n",
        "\\begin{align*} \\mathbf f &= \\mathbf X \\mathbf w + b \\tag{12} \\\\\n",
        "\\frac {\\partial J}{\\partial \\mathbf w} &= \\frac {\\mathbf X^T(\\mathbf f -\\mathbf y)}{m} \\tag{13} \\end{align*}"
      ]
    },
    {
      "cell_type": "markdown",
      "metadata": {
        "id": "YrfeJ8nZImqW"
      },
      "source": [
        "In some contexts, $\\mathbf w$ and $b$ are combined in a single parameter $ \\boldsymbol {\\theta} $ with b as the first component of $\\boldsymbol{\\theta} $ and the remaining components coming from $\\mathbf w$. Here the feature matrix must be prefixed with a column containing all 1(s). For such a notation, the following holds:\n",
        "$$\\mathbf f = \\mathbf X\\boldsymbol{\\theta}$$\n",
        "Optimizing $J$:\n",
        "\\begin{align*} \\frac {\\partial J}{\\partial \\boldsymbol{\\theta}} &=0 \\\\\n",
        "\\frac {\\mathbf X^T(\\mathbf X\\boldsymbol{\\theta} - \\mathbf y)}{m} &= 0\\\\\n",
        "\\mathbf X^T \\mathbf X\\boldsymbol{\\theta} &= \\mathbf X^T\\mathbf y\\\\\n",
        "\\boldsymbol{\\theta} &= (\\mathbf X^T \\mathbf X)^{-1}\\mathbf X^T\\mathbf y \\tag{14} \\end{align*}\n",
        "\n",
        "Above eq known as **normal equation** gives the exact solution of linear regression."
      ]
    },
    {
      "cell_type": "markdown",
      "metadata": {
        "id": "UCCwGRE7ImqX"
      },
      "source": [
        "### Gradient Descent and cost plots wrt parameters"
      ]
    },
    {
      "cell_type": "markdown",
      "metadata": {
        "id": "zKW3vpJVImqX"
      },
      "source": [
        "Even though we have an analytical solution for Linear Regression, we'll see that an iterative algorithm such as Gradient Descent (with proper techniques like normalization) often would help us get closer to acceptable solutions faster than normal equation. Also this approach works for other types of regression and classification where we dont have an analytical solution. So its recommended to almost never use normal equation method in any real world ML problem ourselves. (Its possible some of the libraries might use normal equation internally) - Given advice is from Andrew Ng. Need some more research to verify some of this."
      ]
    },
    {
      "cell_type": "markdown",
      "metadata": {
        "id": "n4PcBPxRImqX"
      },
      "source": [
        "Going back to the single variable Linear Regression problem, $J$ is quadratic in both $w$ and $b$ (eq (3)) and when plotted forms an upward facing bowl like shape ($w$ and $b$ being in the xy plane and $J$ along the z axis that's pointing upwards). Since $J$ is quadratic in both $w$ and $b$, keeping either of $w$ or $b$ constant and plotting $J$ vs the other produces an upwards facing parabola. Expanding the terms in eq (3) gives:\n",
        "\n",
        "\\begin{align*} J &= \\sum \\frac{(x^{(i)})^2w^2 + b^2 + (y^{(i)})^2 + 2x^{(i)}wb - 2y^{(i)}b - 2x^{(i)}y^{(i)}w} {2m} \\\\\n",
        "\\\\\n",
        "&= \\frac{\\displaystyle{\\left(\\sum({x^{(i)}})^2\\right) w^2 +\\ \\left(2\\sum x^{(i)} \\right) wb + mb^2 - \\left(2\\sum x^{(i)}y^{(i)} \\right)w - \\left(2\\sum y^{(i)} \\right) b + \\sum(y^{(i)})^2}} {2m} \\end{align*}\n",
        "\n",
        "Now since  $\\displaystyle{m\\sum({x^{(i)}})^2 - \\left(\\sum x^{(i)}\\right)^2 > 0}$, for any set of real $x^{(i)}$, above expression when equated to any value would give the equation of an ellipse (in the variables $w$ and $b$) and thus we can say that the contour plots of cost are ellipses"
      ]
    },
    {
      "cell_type": "markdown",
      "metadata": {
        "id": "uS7ItTPtImqX"
      },
      "source": [
        "Going back to Gradient Descent, the objective is to find a path from an initial cost towards a direction which leads to the steepest slope or descent. We keep on updating the parameters $w$ and $b$ going in the direction of steepest descent with a learning rate $\\alpha$ till the successive descents stop providing an appreciable cost reduction or till we reach a minima for $J$ which is a function of $w$ and $b$. The minima we reach through a Gradient Descent is a local minima but in case of linear regression it is also a global one.\n",
        "\n",
        "Need to keep $\\alpha$ small enough to not overshoot cost in successive iterations but big enough to not slow down the convergence to the solution.\n",
        "\n",
        "Gradient Descent Algo:\n",
        "\\begin{align*} w &\\to w - \\alpha \\frac {\\partial J}{\\partial w} \\tag{15}\\\\\n",
        "b &\\to b - \\alpha \\frac {\\partial J}{\\partial b} \\tag{16}\\end{align*}"
      ]
    },
    {
      "cell_type": "markdown",
      "metadata": {
        "id": "H6e9K5MrImqX"
      },
      "source": [
        "## NumPy"
      ]
    },
    {
      "cell_type": "markdown",
      "metadata": {
        "id": "GCZoT8dyImqX"
      },
      "source": [
        "Most popular library for Linear Algebra ie for doing maths on vectors and matrices. Vectors represented as 1d arrays and Matrices as 2d arrays, while NumPy supports higher dimensioned arrays as well. Total number of dimensions (also called **axes** in NumPy terminology) is called the **rank** of the NumPy array. A 2d np array can be thought of as an array of (m) arrays each of which in turn contains (n) scalars. And, we say (m,n) is the **shape** (which is basically a tuple in Python) of this 2d array. Rank here is 2. Thus len of shape is rank. And m is the 1st axis and n is the last axis. When such an np array is printed, it's shown as a grid of m rows and n columns.\n",
        "\n",
        "### Some properties/syntax with examples:"
      ]
    },
    {
      "cell_type": "code",
      "execution_count": null,
      "metadata": {
        "id": "qSmYpNxiImqX"
      },
      "outputs": [],
      "source": [
        "import numpy as np"
      ]
    },
    {
      "cell_type": "code",
      "execution_count": null,
      "metadata": {
        "id": "L03QD9nVImqX",
        "outputId": "ece4f7ea-678b-411f-d63a-e1ff8217d8b6"
      },
      "outputs": [
        {
          "name": "stdout",
          "output_type": "stream",
          "text": [
            "[1 2 3 4 5]\n",
            "shape of a: (5,)\n",
            "rank of a: 1\n",
            "data type of a: <class 'numpy.ndarray'>\n",
            "data type of elements of a: int32\n"
          ]
        }
      ],
      "source": [
        "a = np.array([1,2,3,4,5])\n",
        "print(a)\n",
        "print(f'shape of a: {a.shape}')\n",
        "print(f'rank of a: {len(a.shape)}')\n",
        "print(f'data type of a: {type(a)}')\n",
        "print(f'data type of elements of a: {a.dtype}')"
      ]
    },
    {
      "cell_type": "code",
      "execution_count": null,
      "metadata": {
        "id": "ygBVUXxhImqY",
        "outputId": "ff223e61-1d9b-4681-b41a-fd97410ea65f"
      },
      "outputs": [
        {
          "name": "stdout",
          "output_type": "stream",
          "text": [
            "[[1. 2. 3. 4.]\n",
            " [5. 6. 7. 8.]]\n",
            "shape of b: (2, 4)\n",
            "rank of b: 2\n",
            "data type of elements of b: float64\n"
          ]
        }
      ],
      "source": [
        "b= np.array([[1.0,2,3,4],[5,6,7,8]])\n",
        "print(b)\n",
        "print(f'shape of b: {b.shape}')\n",
        "print(f'rank of b: {len(b.shape)}')\n",
        "print(f'data type of elements of b: {b.dtype}')"
      ]
    },
    {
      "cell_type": "markdown",
      "metadata": {
        "id": "fxImEGS6ImqY"
      },
      "source": [
        "All the elements of np array must be of the same data type"
      ]
    },
    {
      "cell_type": "code",
      "execution_count": null,
      "metadata": {
        "id": "cQMwYEDrImqY",
        "outputId": "48ec5fa9-87ea-42f2-a7e5-1ea860108c7b"
      },
      "outputs": [
        {
          "name": "stdout",
          "output_type": "stream",
          "text": [
            "3.0\n",
            "shape of c: ()\n",
            "rank of c: 0\n",
            "data type of elements of c: float64\n",
            "type of c: <class 'numpy.ndarray'>\n"
          ]
        }
      ],
      "source": [
        "c=np.array(3.0)\n",
        "print(c)\n",
        "print(f'shape of c: {c.shape}')\n",
        "print(f'rank of c: {len(c.shape)}')\n",
        "print(f'data type of elements of c: {c.dtype}')\n",
        "print(f'type of c: {type(c)}')"
      ]
    },
    {
      "cell_type": "markdown",
      "metadata": {
        "id": "iCvvqIAjImqY"
      },
      "source": [
        "*An np array can also have 0 dimensions or rank = 0 but can still contain a scalar value*"
      ]
    },
    {
      "cell_type": "code",
      "execution_count": null,
      "metadata": {
        "id": "v304WtIpImqY",
        "outputId": "be8d32f0-30b9-4862-dbb9-28a0e8849ff4"
      },
      "outputs": [
        {
          "data": {
            "text/plain": [
              "True"
            ]
          },
          "execution_count": 29,
          "metadata": {},
          "output_type": "execute_result"
        }
      ],
      "source": [
        "np.array(3) == c"
      ]
    },
    {
      "cell_type": "markdown",
      "metadata": {
        "id": "dv9_M1VoImqY"
      },
      "source": [
        "*While checking equality, it checks for value not the data type*"
      ]
    },
    {
      "cell_type": "code",
      "execution_count": null,
      "metadata": {
        "id": "jb4PHkTpImqY",
        "outputId": "ac284a37-d218-4edb-8380-8e012540c103"
      },
      "outputs": [
        {
          "name": "stdout",
          "output_type": "stream",
          "text": [
            "(0,)\n"
          ]
        },
        {
          "data": {
            "text/plain": [
              "array([], dtype=float64)"
            ]
          },
          "execution_count": 5,
          "metadata": {},
          "output_type": "execute_result"
        }
      ],
      "source": [
        "emptyArray1 = np.array([])\n",
        "print(emptyArray1.shape)\n",
        "emptyArray1"
      ]
    },
    {
      "cell_type": "markdown",
      "metadata": {
        "id": "NTeEMRbYImqY"
      },
      "source": [
        "So we can have an empty array of shape (0,) with no elements. Contrast this from earlier where we had shape as an empty tuple but had a value (which was 3)"
      ]
    },
    {
      "cell_type": "code",
      "execution_count": null,
      "metadata": {
        "id": "DDNtLlLtImqY",
        "outputId": "b71b1974-e8c5-40bd-b91a-c35ea8cbbc1c"
      },
      "outputs": [
        {
          "ename": "TypeError",
          "evalue": "array() missing required argument 'object' (pos 0)",
          "output_type": "error",
          "traceback": [
            "\u001b[0;31m---------------------------------------------------------------------------\u001b[0m",
            "\u001b[0;31mTypeError\u001b[0m                                 Traceback (most recent call last)",
            "Cell \u001b[0;32mIn[6], line 1\u001b[0m\n\u001b[0;32m----> 1\u001b[0m \u001b[43mnp\u001b[49m\u001b[38;5;241;43m.\u001b[39;49m\u001b[43marray\u001b[49m\u001b[43m(\u001b[49m\u001b[43m)\u001b[49m\n",
            "\u001b[0;31mTypeError\u001b[0m: array() missing required argument 'object' (pos 0)"
          ]
        }
      ],
      "source": [
        "np.array()"
      ]
    },
    {
      "cell_type": "markdown",
      "metadata": {
        "id": "I0VmDkuFImqY"
      },
      "source": [
        "But it seems we can't have an empty array with no elements with shape also being (). Need to pass atleast something, either an empty list or a scalar value while building np.array"
      ]
    },
    {
      "cell_type": "code",
      "execution_count": null,
      "metadata": {
        "id": "srbMIDQjImqY",
        "outputId": "264ead83-2f38-4237-ad9c-55bbea14c601"
      },
      "outputs": [
        {
          "data": {
            "text/plain": [
              "array([0., 0.])"
            ]
          },
          "execution_count": 14,
          "metadata": {},
          "output_type": "execute_result"
        }
      ],
      "source": [
        "np.zeros(2) # 1d array of 2 elements"
      ]
    },
    {
      "cell_type": "code",
      "execution_count": null,
      "metadata": {
        "id": "nO5TOdhZImqZ",
        "outputId": "64ae0c3a-585c-4140-df77-edbe483cc0ed"
      },
      "outputs": [
        {
          "data": {
            "text/plain": [
              "array([0., 0.])"
            ]
          },
          "execution_count": 21,
          "metadata": {},
          "output_type": "execute_result"
        }
      ],
      "source": [
        "np.zeros((2,)) #Passing a scalar or a tuple with length 1 as a parameter produces same result"
      ]
    },
    {
      "cell_type": "code",
      "execution_count": null,
      "metadata": {
        "id": "8uzwdCT5ImqZ",
        "outputId": "01932be2-16d1-4634-d2a0-b3c2d04f3591"
      },
      "outputs": [
        {
          "name": "stdout",
          "output_type": "stream",
          "text": [
            "[[[0. 0.]\n",
            "  [0. 0.]\n",
            "  [0. 0.]\n",
            "  [0. 0.]]\n",
            "\n",
            " [[0. 0.]\n",
            "  [0. 0.]\n",
            "  [0. 0.]\n",
            "  [0. 0.]]\n",
            "\n",
            " [[0. 0.]\n",
            "  [0. 0.]\n",
            "  [0. 0.]\n",
            "  [0. 0.]]]\n"
          ]
        }
      ],
      "source": [
        "d=np.zeros((3,4,2))\n",
        "print(d)"
      ]
    },
    {
      "cell_type": "code",
      "execution_count": null,
      "metadata": {
        "id": "3Xfm9w3qImqZ",
        "outputId": "5304c91e-b4a3-4755-e990-37119b78ff47"
      },
      "outputs": [
        {
          "data": {
            "text/plain": [
              "array([0, 1, 2, 3, 4, 5, 6, 7, 8, 9])"
            ]
          },
          "execution_count": 20,
          "metadata": {},
          "output_type": "execute_result"
        }
      ],
      "source": [
        "np.arange(10) # accepts only an integer not a tuple. Produces 1d array of that many elements starting from 0."
      ]
    },
    {
      "cell_type": "code",
      "execution_count": null,
      "metadata": {
        "id": "gEQwJbfgImqZ",
        "outputId": "1115fd5d-fa05-4985-f7b3-f0a9fae29542"
      },
      "outputs": [
        {
          "data": {
            "text/plain": [
              "array([0.78745649, 0.22815109, 0.04346343, 0.60629973, 0.56631849,\n",
              "       0.68268549, 0.53360991, 0.50686169, 0.55880697, 0.80054397])"
            ]
          },
          "execution_count": 32,
          "metadata": {},
          "output_type": "execute_result"
        }
      ],
      "source": [
        "np.random.rand(10)"
      ]
    },
    {
      "cell_type": "markdown",
      "metadata": {
        "id": "YiKkQcFDImqZ"
      },
      "source": [
        "random.rand also accepts an integer as a parameter (not a tuple) and produces array of given length with value [0,1). random.random_sample accepts a tuple too as a parameter"
      ]
    },
    {
      "cell_type": "code",
      "execution_count": null,
      "metadata": {
        "id": "anNaoJgTImqZ",
        "outputId": "59e13a3d-7d77-4007-ef80-8fa4c86f3ac1"
      },
      "outputs": [
        {
          "data": {
            "text/plain": [
              "array([0.7583801 , 0.93510172, 0.88793483, 0.48953159, 0.91958823,\n",
              "       0.5794756 , 0.3711545 , 0.63061935, 0.68224789, 0.69938625])"
            ]
          },
          "execution_count": 33,
          "metadata": {},
          "output_type": "execute_result"
        }
      ],
      "source": [
        "np.random.random_sample(10)"
      ]
    },
    {
      "cell_type": "code",
      "execution_count": null,
      "metadata": {
        "id": "yu2xV1I0ImqZ",
        "outputId": "d38df83a-8563-48d1-fce3-535dfb96ddb4"
      },
      "outputs": [
        {
          "data": {
            "text/plain": [
              "array([[0.34719564, 0.66872739],\n",
              "       [0.02564214, 0.12422266],\n",
              "       [0.68309453, 0.55549225],\n",
              "       [0.58875464, 0.0978877 ],\n",
              "       [0.91238643, 0.98325602]])"
            ]
          },
          "execution_count": 34,
          "metadata": {},
          "output_type": "execute_result"
        }
      ],
      "source": [
        "np.random.random_sample((5,2))"
      ]
    },
    {
      "cell_type": "markdown",
      "metadata": {
        "id": "5SpupchoImqZ"
      },
      "source": [
        "Like lists in Python we can slice an np array with an identical syntax `a[start:stop:step]`"
      ]
    },
    {
      "cell_type": "code",
      "execution_count": null,
      "metadata": {
        "id": "7jawVcU9Imqb",
        "outputId": "b4470d4d-87e5-4fae-871d-712f1d5a351c"
      },
      "outputs": [
        {
          "data": {
            "text/plain": [
              "array([2, 4])"
            ]
          },
          "execution_count": 35,
          "metadata": {},
          "output_type": "execute_result"
        }
      ],
      "source": [
        "a[1:4:2]"
      ]
    },
    {
      "cell_type": "code",
      "execution_count": null,
      "metadata": {
        "id": "MDvmG1xMImqb",
        "outputId": "ae26a871-81ba-4427-bb7d-63b2ad3ba873"
      },
      "outputs": [
        {
          "name": "stdout",
          "output_type": "stream",
          "text": [
            "[5. 6. 7. 8.]\n",
            "[5. 6. 7. 8.]\n",
            "[2. 6.]\n"
          ]
        }
      ],
      "source": [
        "print(b[1,:]) # from row number 1 pick all columns\n",
        "print(b[1]) # results in same as above\n",
        "print(b[:,1]) # from every row, pick column number 1"
      ]
    },
    {
      "cell_type": "markdown",
      "metadata": {
        "id": "RVrR1_5pImqb"
      },
      "source": [
        "Both the above produce 1d arrays from 2d array"
      ]
    },
    {
      "cell_type": "code",
      "execution_count": null,
      "metadata": {
        "id": "dKqsMWBaImqb",
        "outputId": "5121de95-0248-4350-bae4-3a7b3a871458"
      },
      "outputs": [
        {
          "name": "stdout",
          "output_type": "stream",
          "text": [
            "[[2.]\n",
            " [6.]]\n"
          ]
        }
      ],
      "source": [
        "print(b[:,1:2])"
      ]
    },
    {
      "cell_type": "markdown",
      "metadata": {
        "id": "yS3kI_rUImqb"
      },
      "source": [
        "Notice diff btw above 2 results. When range is given in the slice it preserves shape, when an explicit number is given, it flattens the data."
      ]
    },
    {
      "cell_type": "code",
      "execution_count": null,
      "metadata": {
        "id": "9vZBctcIImqb",
        "outputId": "0708755c-0288-400a-da3e-c6f31eb4b214"
      },
      "outputs": [
        {
          "data": {
            "text/plain": [
              "array([[1],\n",
              "       [2],\n",
              "       [3],\n",
              "       [4],\n",
              "       [5]])"
            ]
          },
          "execution_count": 44,
          "metadata": {},
          "output_type": "execute_result"
        }
      ],
      "source": [
        "e=np.array([[1],[2],[3],[4],[5]])\n",
        "e"
      ]
    },
    {
      "cell_type": "code",
      "execution_count": null,
      "metadata": {
        "id": "01OnZT3_Imqc",
        "outputId": "de99c00a-e3aa-44db-ab6b-b9717aa66dc6"
      },
      "outputs": [
        {
          "data": {
            "text/plain": [
              "array([1, 2, 3, 4, 5])"
            ]
          },
          "execution_count": 45,
          "metadata": {},
          "output_type": "execute_result"
        }
      ],
      "source": [
        "e[:,0]"
      ]
    },
    {
      "cell_type": "markdown",
      "metadata": {
        "id": "Z3Uz9KgAImqc"
      },
      "source": [
        "We can also get above using **reshape**."
      ]
    },
    {
      "cell_type": "code",
      "execution_count": null,
      "metadata": {
        "id": "mXfFHoXMImqc",
        "outputId": "a18db81b-c8e9-4804-dd94-7e689cb0309b"
      },
      "outputs": [
        {
          "data": {
            "text/plain": [
              "array([1, 2, 3, 4, 5])"
            ]
          },
          "execution_count": 47,
          "metadata": {},
          "output_type": "execute_result"
        }
      ],
      "source": [
        "f=e.reshape((5,))\n",
        "f"
      ]
    },
    {
      "cell_type": "markdown",
      "metadata": {
        "id": "chrlXc1_Imqc"
      },
      "source": [
        "and get back to original by this:"
      ]
    },
    {
      "cell_type": "code",
      "execution_count": null,
      "metadata": {
        "id": "mrdf4ecNImqc",
        "outputId": "41b95a25-4e21-440a-b796-d822632d4a86"
      },
      "outputs": [
        {
          "data": {
            "text/plain": [
              "array([[1],\n",
              "       [2],\n",
              "       [3],\n",
              "       [4],\n",
              "       [5]])"
            ]
          },
          "execution_count": 48,
          "metadata": {},
          "output_type": "execute_result"
        }
      ],
      "source": [
        "f.reshape((5,1))"
      ]
    },
    {
      "cell_type": "markdown",
      "metadata": {
        "id": "nrkJPdbJImqc"
      },
      "source": [
        "While providing the expected shape parameter in the reshape method, we can put a -1 in exactly 1 of the places and it figures out the right shape automatically"
      ]
    },
    {
      "cell_type": "code",
      "execution_count": null,
      "metadata": {
        "id": "r0l5ljoGImqc",
        "outputId": "335b94f8-5981-47e2-df10-aed1710fc099"
      },
      "outputs": [
        {
          "data": {
            "text/plain": [
              "array([[1],\n",
              "       [2],\n",
              "       [3],\n",
              "       [4],\n",
              "       [5]])"
            ]
          },
          "execution_count": 50,
          "metadata": {},
          "output_type": "execute_result"
        }
      ],
      "source": [
        "f.reshape((-1,1))"
      ]
    },
    {
      "cell_type": "code",
      "execution_count": null,
      "metadata": {
        "id": "_w2o-1clImqc",
        "outputId": "3aed0d3f-dd9f-4723-ef94-04b93e962527"
      },
      "outputs": [
        {
          "data": {
            "text/plain": [
              "array([1, 2, 3, 4, 5])"
            ]
          },
          "execution_count": 49,
          "metadata": {},
          "output_type": "execute_result"
        }
      ],
      "source": [
        "e.reshape((-1,))"
      ]
    },
    {
      "cell_type": "markdown",
      "metadata": {
        "id": "Hd3LPS8aImqc"
      },
      "source": [
        "#### Broadcasting\n",
        "\n",
        "Quite elegant functionality of NumPy arrays. Helps to do arithmetic between arrays of different shapes. A simple arithmetic like addition or multiplication of 1 np array with another object should require the other object also to be an np array of exactly same shape because arithmetic is done element wise between these np arrays. But broadcasting relaxes this constraint and expands (think of it as by copying) the axis of length 1 in 1 array to match the size of the corresponding axis in the 2<sup>nd</sup> array or adds more axes in the smaller of the 2 arrays or even scalars so that we get 2 arrays having the same number of axes and with same lengths giving us the same number of elements in both arrays to facilitate the element-wise arithmetic.\n",
        "\n",
        "Only 2 imp rules to remember abt broadcasting:\n",
        "1. It compares shapes from the right most axis of the 2 arrays moving leftward until we reach the end for 1 of the arrays.\\\n",
        "So if a.shape = (5,4,2) \\\n",
        "and b.shape = (4,2) \\\n",
        "Then we can do arithmetic with a and b, because all (the 2) dimensions of b are same as the last 2 dimensions of a. But if b's shape were (3,4,2) then it wouldn't have worked because 3 is not equal to 5.\n",
        "\n",
        "1. Also for a pair of dimensions to be compatible they either have to be same or 1 of those 2 need to be 1.\\\n",
        "So if b.shape were (4,1) then also a and b would be compatible.\\\n",
        "It would have also worked if shape of b had been (2,)\n",
        "\n",
        "Eg where both the arrays in an arithmetic expression are broadcasted: if a.shape = (8,1,6,1) and b.shape = (7,1,5), then the result.shape = (8,7,6,5).\\\n",
        "Some egs in code:"
      ]
    },
    {
      "cell_type": "code",
      "execution_count": null,
      "metadata": {
        "id": "XW1pPlhSImqc",
        "outputId": "24b4cf7d-2044-4e78-96b6-5a3e90307ec8"
      },
      "outputs": [
        {
          "data": {
            "text/plain": [
              "array([[4, 5],\n",
              "       [6, 7],\n",
              "       [8, 9]])"
            ]
          },
          "execution_count": 134,
          "metadata": {},
          "output_type": "execute_result"
        }
      ],
      "source": [
        "a = np.array([[1,2],[3,4],[5,6]])\n",
        "a+3 # array (shape (3,2)) and scalar --> shape (3,2)"
      ]
    },
    {
      "cell_type": "code",
      "execution_count": null,
      "metadata": {
        "id": "R1LKxJceImqc",
        "outputId": "0418dc82-64ea-4548-816f-0e33924bd9c6"
      },
      "outputs": [
        {
          "data": {
            "text/plain": [
              "array([[2, 3],\n",
              "       [5, 6],\n",
              "       [8, 9]])"
            ]
          },
          "execution_count": 135,
          "metadata": {},
          "output_type": "execute_result"
        }
      ],
      "source": [
        "b= np.array([[1],[2],[3]])\n",
        "a+b # shapes (3,2) and (3,1) --> shape (3,2)"
      ]
    },
    {
      "cell_type": "code",
      "execution_count": null,
      "metadata": {
        "id": "8cU_ExicImqc",
        "outputId": "47eeec85-a55c-432a-ce7e-1c02c0a7e930"
      },
      "outputs": [
        {
          "data": {
            "text/plain": [
              "array([[ 5,  7],\n",
              "       [ 7,  9],\n",
              "       [ 9, 11]])"
            ]
          },
          "execution_count": 137,
          "metadata": {},
          "output_type": "execute_result"
        }
      ],
      "source": [
        "c = np.array([4,5])\n",
        "a+c # shapes (3,2) and (2,) --> shape (3,2)"
      ]
    },
    {
      "cell_type": "code",
      "execution_count": null,
      "metadata": {
        "id": "ne5DPyorImqc",
        "outputId": "80ebb5de-08f0-48c6-8742-0697b0b77dfd"
      },
      "outputs": [
        {
          "ename": "ValueError",
          "evalue": "operands could not be broadcast together with shapes (3,2) (3,) ",
          "output_type": "error",
          "traceback": [
            "\u001b[1;31m---------------------------------------------------------------------------\u001b[0m",
            "\u001b[1;31mValueError\u001b[0m                                Traceback (most recent call last)",
            "Cell \u001b[1;32mIn[138], line 2\u001b[0m\n\u001b[0;32m      1\u001b[0m d \u001b[38;5;241m=\u001b[39m np\u001b[38;5;241m.\u001b[39marray([\u001b[38;5;241m4\u001b[39m,\u001b[38;5;241m5\u001b[39m,\u001b[38;5;241m6\u001b[39m])\n\u001b[1;32m----> 2\u001b[0m \u001b[43ma\u001b[49m\u001b[38;5;241;43m+\u001b[39;49m\u001b[43md\u001b[49m \u001b[38;5;66;03m#shapes (3,2) and (3,) --> error\u001b[39;00m\n",
            "\u001b[1;31mValueError\u001b[0m: operands could not be broadcast together with shapes (3,2) (3,) "
          ]
        }
      ],
      "source": [
        "d = np.array([4,5,6])\n",
        "a+d #shapes (3,2) and (3,) --> error"
      ]
    },
    {
      "cell_type": "code",
      "execution_count": null,
      "metadata": {
        "id": "ayOKFKRQImqc",
        "outputId": "c79b8d1f-5665-4d11-fa56-f24363e7d74a"
      },
      "outputs": [
        {
          "data": {
            "text/plain": [
              "(8, 7, 6, 5)"
            ]
          },
          "execution_count": 139,
          "metadata": {},
          "output_type": "execute_result"
        }
      ],
      "source": [
        "a = np.ones((8,1,6,1))\n",
        "b = np.ones((7,1,5))\n",
        "(a+b).shape #both arrays are broadcasted"
      ]
    },
    {
      "cell_type": "markdown",
      "metadata": {
        "id": "VYvtyXfBImqd"
      },
      "source": [
        "#### Dot Product\n",
        "\n",
        "`np.dot(a,b)` If $a$ and $b$ are both 1d arrays it is exactly like a dot product between 2 vectors ($a$ and $b$ must have same shape ie same number of components) ie a sum of product of their respective components or sum product in short. Also either $a$ or $b$ or both of these parameters can be scalars too in which case it behaves like a multiplication of a vector with scalar or just a simple product of 2 scalars (when both are scalars)."
      ]
    },
    {
      "cell_type": "code",
      "execution_count": null,
      "metadata": {
        "id": "LweYoEjVImqd",
        "outputId": "0e28c8b9-83a8-45d1-bcbd-22fd5f53b6db"
      },
      "outputs": [
        {
          "name": "stdout",
          "output_type": "stream",
          "text": [
            "12\n",
            "<class 'numpy.int32'>\n"
          ]
        }
      ],
      "source": [
        "dot_product_scalars = np.dot(3,4)\n",
        "print(dot_product_scalars)\n",
        "print(type(dot_product_scalars))"
      ]
    },
    {
      "cell_type": "code",
      "execution_count": null,
      "metadata": {
        "id": "I49TVwC7Imqd",
        "outputId": "987b19ec-b6a9-4e75-db9a-329d5333ce48"
      },
      "outputs": [
        {
          "name": "stdout",
          "output_type": "stream",
          "text": [
            "12\n",
            "<class 'numpy.int32'>\n"
          ]
        }
      ],
      "source": [
        "dot_product_0d_arrays = np.dot(np.array(3),np.array(4))\n",
        "print(dot_product_0d_arrays)\n",
        "print(type(dot_product_0d_arrays))"
      ]
    },
    {
      "cell_type": "code",
      "execution_count": null,
      "metadata": {
        "id": "A5AklLPmImqd",
        "outputId": "2e5c8aab-2f41-483c-d7e4-23c62ea41d92"
      },
      "outputs": [
        {
          "name": "stdout",
          "output_type": "stream",
          "text": [
            "3.0\n",
            "<class 'numpy.float64'>\n"
          ]
        }
      ],
      "source": [
        "a=np.array([3,4])\n",
        "b=np.array([1.,0])\n",
        "dot_product_vectors = np.dot(a,b)\n",
        "print(dot_product_vectors)\n",
        "print(type(dot_product_vectors))"
      ]
    },
    {
      "cell_type": "code",
      "execution_count": null,
      "metadata": {
        "id": "OFJKJOUSImqd",
        "outputId": "631d090e-9269-42ed-de43-3da7faa7c195"
      },
      "outputs": [
        {
          "name": "stdout",
          "output_type": "stream",
          "text": [
            "[6 8]\n"
          ]
        }
      ],
      "source": [
        "print(np.dot(a,2)) #dot product between vector and scalar"
      ]
    },
    {
      "cell_type": "code",
      "execution_count": null,
      "metadata": {
        "id": "dV15W2ngImqd",
        "outputId": "4dfd5637-f749-413d-ef5f-9adbdc938fbf"
      },
      "outputs": [
        {
          "ename": "ValueError",
          "evalue": "shapes (2,) and (1,) not aligned: 2 (dim 0) != 1 (dim 0)",
          "output_type": "error",
          "traceback": [
            "\u001b[1;31m---------------------------------------------------------------------------\u001b[0m",
            "\u001b[1;31mValueError\u001b[0m                                Traceback (most recent call last)",
            "Cell \u001b[1;32mIn[75], line 1\u001b[0m\n\u001b[1;32m----> 1\u001b[0m \u001b[43mnp\u001b[49m\u001b[38;5;241;43m.\u001b[39;49m\u001b[43mdot\u001b[49m\u001b[43m(\u001b[49m\u001b[43ma\u001b[49m\u001b[43m,\u001b[49m\u001b[43mnp\u001b[49m\u001b[38;5;241;43m.\u001b[39;49m\u001b[43marray\u001b[49m\u001b[43m(\u001b[49m\u001b[43m[\u001b[49m\u001b[38;5;241;43m2\u001b[39;49m\u001b[43m]\u001b[49m\u001b[43m)\u001b[49m\u001b[43m)\u001b[49m\n",
            "\u001b[1;31mValueError\u001b[0m: shapes (2,) and (1,) not aligned: 2 (dim 0) != 1 (dim 0)"
          ]
        }
      ],
      "source": [
        "np.dot(a,np.array([2]))"
      ]
    },
    {
      "cell_type": "markdown",
      "metadata": {
        "id": "VF2nKPzsImqd"
      },
      "source": [
        "Broadcasting isn't meant for 'dot', it's meant for simple arithmetic like addition, subtraction , multiplication etc."
      ]
    },
    {
      "cell_type": "code",
      "execution_count": null,
      "metadata": {
        "id": "k0iN9lH8Imqd",
        "outputId": "9ec70da2-f430-4bdc-8028-20927706bdd4"
      },
      "outputs": [
        {
          "data": {
            "text/plain": [
              "array([6, 8])"
            ]
          },
          "execution_count": 76,
          "metadata": {},
          "output_type": "execute_result"
        }
      ],
      "source": [
        "a*np.array([2])"
      ]
    },
    {
      "cell_type": "markdown",
      "metadata": {
        "id": "a7sMrpnZImqd"
      },
      "source": [
        "**1. If $a$ is an N-D array and $b$ is a 1-D array, it is a sum product over the last axis of $a$ and $b$.**\\\n",
        "Above property implies that if $a$ is a 2d array then the result is exactly like a matrix multiplication in maths, as if $b$ were a single column matrix.\n",
        "\n",
        "Thus when we need to multiply a (multi-row, multi-column) matrix with a 'single column' matrix, instead of representing  matrix multiplication between two 2d arrays in NumPy, for simplicity, we can just show it as a dot product of multi-row, multi-column matrix (2d array) with a 'single column' matrix represented as a 1d array (although technically a matrix by definition is always a 2d object whether it contains multiple columns or not) and then interpret the result of the dot also as a 'single column' matrix.\n",
        "\n"
      ]
    },
    {
      "cell_type": "code",
      "execution_count": null,
      "metadata": {
        "id": "9fPue5U8Imqd",
        "outputId": "d820faec-dbc6-47da-d9c9-c18f19a311b8"
      },
      "outputs": [
        {
          "name": "stdout",
          "output_type": "stream",
          "text": [
            "X:\n",
            "[[1 2]\n",
            " [3 4]\n",
            " [5 6]]\n",
            "w:[3 5]\n",
            "X dot w: [13 29 45]\n"
          ]
        }
      ],
      "source": [
        "X=np.array([[1,2],[3,4],[5,6]])\n",
        "w=np.array([3,5])\n",
        "print(f'X:\\n{X}')\n",
        "print(f'w:{w}')\n",
        "print(f'X dot w: {np.dot(X,w)}')"
      ]
    },
    {
      "cell_type": "code",
      "execution_count": null,
      "metadata": {
        "id": "BSR7piezImqd",
        "outputId": "173d504d-9bb6-4a92-cca8-ce97ccf114ab"
      },
      "outputs": [
        {
          "name": "stdout",
          "output_type": "stream",
          "text": [
            "X:\n",
            "[[1 2]\n",
            " [3 4]\n",
            " [5 6]]\n",
            "W:\n",
            "[[3]\n",
            " [5]]\n",
            "XW:\n",
            "[[13]\n",
            " [29]\n",
            " [45]]\n"
          ]
        }
      ],
      "source": [
        "W= np.array([[3],[5]])\n",
        "print(f'X:\\n{X}')\n",
        "print(f'W:\\n{W}')\n",
        "print(f'XW:\\n{X@W}')"
      ]
    },
    {
      "cell_type": "markdown",
      "metadata": {
        "id": "-YSX6kYMImqd"
      },
      "source": [
        "*`@` is the operator for matrix multiplication. `a@b` is shorthand for `np.matmul(a,b)`.*\\\n",
        "**2. Incidentally np.dot between two 2d arrays (two matrices) produces the same result as matmul although matmul or `@` is preferred**"
      ]
    },
    {
      "cell_type": "code",
      "execution_count": null,
      "metadata": {
        "id": "40VkdtnXImqd",
        "outputId": "f7692eae-0827-4607-d06e-e8ed341fd756"
      },
      "outputs": [
        {
          "name": "stdout",
          "output_type": "stream",
          "text": [
            "dot:\n",
            "[[13]\n",
            " [29]\n",
            " [45]]\n",
            "matmul:\n",
            "[[13]\n",
            " [29]\n",
            " [45]]\n"
          ]
        }
      ],
      "source": [
        "print(f'dot:\\n{np.dot(X,W)}')\n",
        "print(f'matmul:\\n{np.matmul(X,W)}')"
      ]
    },
    {
      "cell_type": "markdown",
      "metadata": {
        "id": "fUBfyd94Imqe"
      },
      "source": [
        "*Actually if both $a$ and $b$ are np arrays of ranks between 1 and 2 or when 1 of the arrays has rank 1 and the other has a rank even greater than 2 then both the operators produce the same result. Matmul doesn't support any of its operands to be scalar or even 0d np array so if operands could possibly be scalars then must use dot instead of matmul*"
      ]
    },
    {
      "cell_type": "code",
      "execution_count": null,
      "metadata": {
        "id": "Zyy0iyiKImqe",
        "outputId": "352c378c-3f4d-428e-b8cd-552d161779ac"
      },
      "outputs": [
        {
          "name": "stdout",
          "output_type": "stream",
          "text": [
            "X dot w: [13 29 45]\n",
            "X matmul w: [13 29 45]\n"
          ]
        }
      ],
      "source": [
        "print(f'X dot w: {np.dot(X,w)}')\n",
        "print(f'X matmul w: {np.matmul(X,w)}')"
      ]
    },
    {
      "cell_type": "code",
      "execution_count": null,
      "metadata": {
        "id": "q4ZkMpFeImqe",
        "outputId": "ea31c5ad-fd38-4fbe-b9af-3c19cbef7849"
      },
      "outputs": [
        {
          "name": "stdout",
          "output_type": "stream",
          "text": [
            "dot_product_vectors: 3.0\n",
            "matmul_vectors: 3.0\n"
          ]
        }
      ],
      "source": [
        "a=np.array([3,4])\n",
        "b=np.array([1.,0])\n",
        "print(f'dot_product_vectors: {np.dot(a,b)}')\n",
        "print(f'matmul_vectors: {np.matmul(a,b)}')"
      ]
    },
    {
      "cell_type": "code",
      "execution_count": null,
      "metadata": {
        "id": "oL4T5b2vImqe",
        "outputId": "b5059c3f-5a73-4432-df5b-60b82ca7be87"
      },
      "outputs": [
        {
          "ename": "ValueError",
          "evalue": "matmul: Input operand 1 does not have enough dimensions (has 0, gufunc core with signature (n?,k),(k,m?)->(n?,m?) requires 1)",
          "output_type": "error",
          "traceback": [
            "\u001b[1;31m---------------------------------------------------------------------------\u001b[0m",
            "\u001b[1;31mValueError\u001b[0m                                Traceback (most recent call last)",
            "Cell \u001b[1;32mIn[92], line 3\u001b[0m\n\u001b[0;32m      1\u001b[0m c\u001b[38;5;241m=\u001b[39mnp\u001b[38;5;241m.\u001b[39marray([\u001b[38;5;241m3\u001b[39m])\n\u001b[0;32m      2\u001b[0m d\u001b[38;5;241m=\u001b[39mnp\u001b[38;5;241m.\u001b[39marray(\u001b[38;5;241m2\u001b[39m)\n\u001b[1;32m----> 3\u001b[0m \u001b[43mnp\u001b[49m\u001b[38;5;241;43m.\u001b[39;49m\u001b[43mmatmul\u001b[49m\u001b[43m(\u001b[49m\u001b[43mc\u001b[49m\u001b[43m,\u001b[49m\u001b[43md\u001b[49m\u001b[43m)\u001b[49m\n",
            "\u001b[1;31mValueError\u001b[0m: matmul: Input operand 1 does not have enough dimensions (has 0, gufunc core with signature (n?,k),(k,m?)->(n?,m?) requires 1)"
          ]
        }
      ],
      "source": [
        "c=np.array([3])\n",
        "d=np.array(2)\n",
        "np.matmul(c,d) # trying matmul with 0d array"
      ]
    },
    {
      "cell_type": "code",
      "execution_count": null,
      "metadata": {
        "id": "ELU-PKkvImqe",
        "outputId": "5eb85818-2a2c-4dac-9150-0924ed094192"
      },
      "outputs": [
        {
          "ename": "ValueError",
          "evalue": "matmul: Input operand 1 does not have enough dimensions (has 0, gufunc core with signature (n?,k),(k,m?)->(n?,m?) requires 1)",
          "output_type": "error",
          "traceback": [
            "\u001b[1;31m---------------------------------------------------------------------------\u001b[0m",
            "\u001b[1;31mValueError\u001b[0m                                Traceback (most recent call last)",
            "Cell \u001b[1;32mIn[93], line 1\u001b[0m\n\u001b[1;32m----> 1\u001b[0m \u001b[43mnp\u001b[49m\u001b[38;5;241;43m.\u001b[39;49m\u001b[43mmatmul\u001b[49m\u001b[43m(\u001b[49m\u001b[43mc\u001b[49m\u001b[43m,\u001b[49m\u001b[38;5;241;43m2\u001b[39;49m\u001b[43m)\u001b[49m\n",
            "\u001b[1;31mValueError\u001b[0m: matmul: Input operand 1 does not have enough dimensions (has 0, gufunc core with signature (n?,k),(k,m?)->(n?,m?) requires 1)"
          ]
        }
      ],
      "source": [
        "np.matmul(c,2) # trying matmul with scalar"
      ]
    },
    {
      "cell_type": "markdown",
      "metadata": {
        "id": "5CezUwhrImqe"
      },
      "source": [
        "**3. If a is an N-D array and b is an M-D array (where M>=2), it is a sum product over the last axis of a and the second-to-last axis of b**\\\n",
        "1 example of above rule is when we multiply a 1d array with a 2d array:"
      ]
    },
    {
      "cell_type": "code",
      "execution_count": null,
      "metadata": {
        "id": "vcAtcnFWImqe",
        "outputId": "8caff6cd-0eef-41b4-b1b8-f28904269e86"
      },
      "outputs": [
        {
          "name": "stdout",
          "output_type": "stream",
          "text": [
            "a:\n",
            "[3 5]\n",
            "b:\n",
            "[[1 2 3]\n",
            " [4 5 6]]\n",
            "a dot b:\n",
            "[23 31 39]\n"
          ]
        }
      ],
      "source": [
        "a=np.array([3,5])\n",
        "b=np.array([[1,2,3],[4,5,6]])\n",
        "print(f'a:\\n{a}')\n",
        "print(f'b:\\n{b}')\n",
        "print(f'a dot b:\\n{np.dot(a,b)}')"
      ]
    },
    {
      "cell_type": "markdown",
      "metadata": {
        "id": "EjgPVwngImqe"
      },
      "source": [
        "The above result looks similar to a matrix multiplication of a 'single row' matrix with a general (multi row) matrix. Thus although technically a matrix should be represented as a 2d array but when we need to multiply a 'single row' matrix with a general matrix, we can also simply show it as a dot product between a 1d array and 2d array and then interpret the result also as a 'single row' matrix."
      ]
    },
    {
      "cell_type": "code",
      "execution_count": null,
      "metadata": {
        "id": "5qDN1k05Imqe",
        "outputId": "85f036f9-4289-45ff-b13b-251bf7302087"
      },
      "outputs": [
        {
          "name": "stdout",
          "output_type": "stream",
          "text": [
            "a matmul b:\n",
            "[23 31 39]\n"
          ]
        }
      ],
      "source": [
        "print(f'a matmul b:\\n{a@b}')"
      ]
    },
    {
      "cell_type": "markdown",
      "metadata": {
        "id": "3abqnXHTImqe"
      },
      "source": [
        "Also as noted before 3rd property, matmul gives the same result as well for arrays of ranks between 1 and 2.\\\n",
        "Also numerically speaking, we will get the same result (the shape would be different though) if the 1st np array were also a 2d array and there was a proper matrix(2d array) to matrix(2d array) multiplication."
      ]
    },
    {
      "cell_type": "code",
      "execution_count": null,
      "metadata": {
        "id": "AhD63j31Imqe",
        "outputId": "fbcd2658-6f45-4438-97b1-d3ff4006af94"
      },
      "outputs": [
        {
          "name": "stdout",
          "output_type": "stream",
          "text": [
            "A matmul b:\n",
            "[[23 31 39]]\n"
          ]
        }
      ],
      "source": [
        "A=np.array([[3,5]])\n",
        "print(f'A matmul b:\\n{A@b}')"
      ]
    },
    {
      "cell_type": "markdown",
      "metadata": {
        "id": "4MvlJk88Imqe"
      },
      "source": [
        "**Thus both for dot and matmul, a 1d array as a left argument behaves like a single row matrix while as a right argument it behaves like a single column matrix.** The likeness is not absolute as the shape is different though had it actually been a 2d array."
      ]
    },
    {
      "cell_type": "markdown",
      "metadata": {
        "id": "NCCk1T7wImqe"
      },
      "source": [
        "#### Difference in results between matmul and dot\n",
        "If either of $a$ or $b$ has a rank greater than 2 then matmul assumes it to be an array (of shape sans the last 2 indices of the original array's shape) of matrices. Each of the operands now can be thought of as either an array of matrices or just a matrix. The case here is similar to doing arithmetic like addition or multiplication between different arrays or between scalars and arrays and thus matmul applies rules of broadcasting to resolve the difference if one operand has a different shape of array of matrices than the other.\\\n",
        "For eg:"
      ]
    },
    {
      "cell_type": "code",
      "execution_count": null,
      "metadata": {
        "id": "yqzfLHXRImqe",
        "outputId": "8335594f-d713-4315-fe4b-7317ec4bf120"
      },
      "outputs": [
        {
          "ename": "ValueError",
          "evalue": "operands could not be broadcast together with remapped shapes [original->remapped]: (3,4,2)->(3,newaxis,newaxis) (5,2,6)->(5,newaxis,newaxis)  and requested shape (4,6)",
          "output_type": "error",
          "traceback": [
            "\u001b[1;31m---------------------------------------------------------------------------\u001b[0m",
            "\u001b[1;31mValueError\u001b[0m                                Traceback (most recent call last)",
            "Cell \u001b[1;32mIn[120], line 3\u001b[0m\n\u001b[0;32m      1\u001b[0m a \u001b[38;5;241m=\u001b[39m np\u001b[38;5;241m.\u001b[39mones([\u001b[38;5;241m3\u001b[39m,\u001b[38;5;241m4\u001b[39m,\u001b[38;5;241m2\u001b[39m])\n\u001b[0;32m      2\u001b[0m b \u001b[38;5;241m=\u001b[39m np\u001b[38;5;241m.\u001b[39mones([\u001b[38;5;241m5\u001b[39m,\u001b[38;5;241m2\u001b[39m,\u001b[38;5;241m6\u001b[39m])\n\u001b[1;32m----> 3\u001b[0m \u001b[43mnp\u001b[49m\u001b[38;5;241;43m.\u001b[39;49m\u001b[43mmatmul\u001b[49m\u001b[43m(\u001b[49m\u001b[43ma\u001b[49m\u001b[43m,\u001b[49m\u001b[43mb\u001b[49m\u001b[43m)\u001b[49m\u001b[38;5;241m.\u001b[39mshape\n",
            "\u001b[1;31mValueError\u001b[0m: operands could not be broadcast together with remapped shapes [original->remapped]: (3,4,2)->(3,newaxis,newaxis) (5,2,6)->(5,newaxis,newaxis)  and requested shape (4,6)"
          ]
        }
      ],
      "source": [
        "a = np.ones([3,4,2])\n",
        "b = np.ones([5,2,6])\n",
        "np.matmul(a,b).shape"
      ]
    },
    {
      "cell_type": "markdown",
      "metadata": {
        "id": "PeQYgq-TImqe"
      },
      "source": [
        "Think of $a$ as an array of 3 elements each of which is a matrix and $b$ as an array of 5 elements each of which is also a matrix. Now the shapes of matrices in these 2 arrays agree for a successful matrix multiplication ie shapes of matrices in $a$ which is (4,2) agree with shapes of matrices in $b$ which is (2,6) for a proper matrix multiplication but just like we can't multiply an array of shape (3,) with an array of shape (5,), it will throw an error. However if $b$'s shape were (5,3,2,6) then it would have worked because arrays of shapes (3,) and (5,3) can have arithmetic done between according to broadcast rules."
      ]
    },
    {
      "cell_type": "code",
      "execution_count": null,
      "metadata": {
        "id": "Zv0HTXDfImqf",
        "outputId": "75b67ffd-cc42-41c9-dccf-09281a175346"
      },
      "outputs": [
        {
          "data": {
            "text/plain": [
              "(5, 3, 4, 6)"
            ]
          },
          "execution_count": 126,
          "metadata": {},
          "output_type": "execute_result"
        }
      ],
      "source": [
        "b_ = np.ones([5,3,2,6])\n",
        "np.matmul(a,b_).shape"
      ]
    },
    {
      "cell_type": "markdown",
      "metadata": {
        "id": "pCk7aZiAImqf"
      },
      "source": [
        "Whereas for dot, there actually is no broadcasting, and there actually is no requirement for a successful dot between 2 arrays of ranks greater than 2 other than that the last index of shape of 1st array ($a$) must match with the 2nd last index of shape of 2nd array ($b$). The final shape of the result is all the indices of shape of $a$ except the last one followed by all indices of shape of $b$ except the 2nd last one.\\\n",
        "For eg:"
      ]
    },
    {
      "cell_type": "code",
      "execution_count": null,
      "metadata": {
        "id": "TvD2059jImqf",
        "outputId": "b5656d16-b407-4741-d7cb-e35f31c2b466"
      },
      "outputs": [
        {
          "name": "stdout",
          "output_type": "stream",
          "text": [
            "a.shape:(3, 4, 2)\n",
            "b.shape:(5, 2, 6)\n",
            "b_.shape:(5, 3, 2, 6)\n",
            "np.dot(a,b).shape:(3, 4, 5, 6)\n",
            "np.dot(a,b_).shape:(3, 4, 5, 3, 6)\n"
          ]
        }
      ],
      "source": [
        "print(f'a.shape:{a.shape}')\n",
        "print(f'b.shape:{b.shape}')\n",
        "print(f'b_.shape:{b_.shape}')\n",
        "print(f'np.dot(a,b).shape:{np.dot(a,b).shape}')\n",
        "print(f'np.dot(a,b_).shape:{np.dot(a,b_).shape}')"
      ]
    },
    {
      "cell_type": "markdown",
      "metadata": {
        "id": "72TglPmGImqf"
      },
      "source": [
        "## Linear Regression Model implementation\n",
        "\n",
        "From [Vector Equations for Linear Regression](#vector-and-matrix-equations-for-linear-regression), eq (12):"
      ]
    },
    {
      "cell_type": "code",
      "execution_count": null,
      "metadata": {
        "id": "XlcfI-DqImqf"
      },
      "outputs": [],
      "source": [
        "def linear_model_output(X,w,b):\n",
        "    \"\"\"\n",
        "    Returns Linear Regression Model prediction: 1d array (m,)\n",
        "    \"\"\"\n",
        "    f=np.dot(X,w)+b\n",
        "    return f"
      ]
    },
    {
      "cell_type": "markdown",
      "metadata": {
        "id": "UtIqJv7KImqf"
      },
      "source": [
        "From eq (9):"
      ]
    },
    {
      "cell_type": "code",
      "execution_count": null,
      "metadata": {
        "id": "-xmHzbYsImqf"
      },
      "outputs": [],
      "source": [
        "def linear_model_cost(X,y,w,b):\n",
        "    \"\"\"\n",
        "    Returns Linear Regression Cost (scalar) without regularization\n",
        "    \"\"\"\n",
        "    m=X.shape[0]\n",
        "    f=linear_model_output(X,w,b)\n",
        "    J=np.sum((f-y)**2)/(2*m)\n",
        "    return J"
      ]
    },
    {
      "cell_type": "markdown",
      "metadata": {
        "id": "c0Ac3umzImqf"
      },
      "source": [
        "From eq (13) and (11):"
      ]
    },
    {
      "cell_type": "code",
      "execution_count": null,
      "metadata": {
        "id": "9LjH4Ci6Imqf"
      },
      "outputs": [],
      "source": [
        "def linear_model_derivatives(X,y,w,b):\n",
        "    \"\"\"\n",
        "    Returns Linear Regression Derivatives (tuple of ndarray and scalar) without regularization\n",
        "    \"\"\"\n",
        "    m=X.shape[0]\n",
        "    f=linear_model_output(X,w,b)\n",
        "    dJdw=(np.dot(X.T,f-y))/m\n",
        "    dJdb=(np.sum(f-y))/m\n",
        "    return dJdw,dJdb"
      ]
    },
    {
      "cell_type": "markdown",
      "metadata": {
        "id": "Df8dDV6wImqf"
      },
      "source": [
        "From [Gradient Descent](#gradient-descent-and-cost-plots-wrt-parameters) eq (15) and (16):"
      ]
    },
    {
      "cell_type": "code",
      "execution_count": null,
      "metadata": {
        "id": "jATJKsUjImqf"
      },
      "outputs": [],
      "source": [
        "import copy"
      ]
    },
    {
      "cell_type": "code",
      "execution_count": null,
      "metadata": {
        "id": "0VLs5OlwImqf"
      },
      "outputs": [],
      "source": [
        "def linear_model_gradient_descent(X,y,w,b,num_iter,a=0.03,cost_fn=linear_model_cost, derivative_fn=linear_model_derivatives):\n",
        "    \"\"\"\n",
        "    Returns final parameters w, b and lists of histories of cost and the parameters w and b\n",
        "    \"\"\"\n",
        "    w_hist = [w]\n",
        "    b_hist = [b]\n",
        "    J=cost_fn(X,y,w,b)\n",
        "    J_hist = [J]\n",
        "    for i in range(num_iter):\n",
        "        dJdw,dJdb = derivative_fn(X,y,w,b)\n",
        "        w=w-a*dJdw\n",
        "        b=b-a*dJdb\n",
        "        J = cost_fn(X,y,w,b)\n",
        "        w_hist.append(w)\n",
        "        b_hist.append(b)\n",
        "        J_hist.append(J)\n",
        "        if J_hist[-1]>J_hist[-2]:\n",
        "            print(f'Cost increased from {J_hist[-2]} to {J_hist[-1]}!')\n",
        "            break\n",
        "    return w,b,J_hist,w_hist,b_hist"
      ]
    },
    {
      "cell_type": "markdown",
      "metadata": {
        "id": "RqFUJb4UImqf"
      },
      "source": [
        "From [Vector Equations for Linear Regression](#vector-and-matrix-equations-for-linear-regression), eq (14):"
      ]
    },
    {
      "cell_type": "code",
      "execution_count": null,
      "metadata": {
        "id": "cc7x2eqoImqf"
      },
      "outputs": [],
      "source": [
        "def linear_model_sol_normal_eq(X,y):\n",
        "    \"\"\"\n",
        "    Returns solution (1d array) of Linear Regression by normal equation method. 1st component is 'b'\n",
        "    \"\"\"\n",
        "    X=np.c_[np.ones(len(X)),X]\n",
        "    theta = np.linalg.inv((X.T@X))@X.T@y\n",
        "    return theta"
      ]
    },
    {
      "cell_type": "markdown",
      "metadata": {
        "id": "RAvYBijUImqf"
      },
      "source": [
        "### Single Variable example"
      ]
    },
    {
      "cell_type": "code",
      "execution_count": null,
      "metadata": {
        "id": "w2Lq-KNmImqf"
      },
      "outputs": [],
      "source": [
        "x_train = np.array([1.0, 2.0])\n",
        "y_train = np.array([300.0, 500.0])\n",
        "w_in,b_in = 0.,0."
      ]
    },
    {
      "cell_type": "markdown",
      "metadata": {
        "id": "Cr-1MdTgImqf"
      },
      "source": [
        "$\\alpha$ ie learning rate = 0.1"
      ]
    },
    {
      "cell_type": "code",
      "execution_count": null,
      "metadata": {
        "id": "YApse6DnImqf",
        "outputId": "ec58ef28-2633-427e-d498-13e6ebcd0ec4"
      },
      "outputs": [
        {
          "name": "stdout",
          "output_type": "stream",
          "text": [
            "Cost increased from 6.623907248959792e-24 to 6.6990320506858e-24!\n",
            "Final parameters: 199.99999999999292, 100.00000000001148\n"
          ]
        }
      ],
      "source": [
        "w,b,J_hist,w_hist,b_hist  = linear_model_gradient_descent(x_train,y_train,w_in,b_in,10000,0.1)\n",
        "print(f'Final parameters: {w}, {b}')"
      ]
    },
    {
      "cell_type": "code",
      "execution_count": null,
      "metadata": {
        "id": "UMTZPvZtImqg",
        "outputId": "356c0f2b-7f1d-4f30-8777-7d10d0018c4e"
      },
      "outputs": [
        {
          "name": "stdout",
          "output_type": "stream",
          "text": [
            "iteration:     0,  J:      85000.0,  w:                  0.0,  b:                  0.0\n",
            "iteration:   383,  J:    0.0539361,  w:      199.36069409245,  b:     101.034418687625\n",
            "iteration:   766,  J:  0.000197785,  w:     199.961286239582,  b:     100.062640180189\n",
            "iteration:  1149,  J:  7.25281e-07,  w:     199.997655652438,  b:     100.003793234037\n",
            "iteration:  1532,  J:  2.65962e-09,  w:     199.999858035865,  b:     100.000229702795\n",
            "iteration:  1915,  J:  9.75287e-12,  w:     199.999991403231,  b:     100.000013909865\n",
            "iteration:  2298,  J:   3.5764e-14,  w:     199.999999479415,  b:     100.000000842325\n",
            "iteration:  2681,  J:  1.31148e-16,  w:     199.999999968475,  b:     100.000000051008\n",
            "iteration:  3064,  J:  4.80915e-19,  w:     199.999999998091,  b:     100.000000003089\n",
            "iteration:  3447,  J:  1.76404e-21,  w:     199.999999999884,  b:     100.000000000187\n",
            "iteration:  3831,  J:  6.69903e-24,  w:     199.999999999993,  b:     100.000000000011\n"
          ]
        }
      ],
      "source": [
        "for i in range(min(11,len(J_hist))):\n",
        "    iter = i if len(J_hist)<11 else ((len(J_hist)-1)*i)//10\n",
        "    print(f'iteration: {iter:5},  J: {J_hist[iter]:12.6},  w: {w_hist[iter]:20.15},  b: {b_hist[iter]:20.15}')"
      ]
    },
    {
      "cell_type": "markdown",
      "metadata": {
        "id": "OP-a79DIImqg"
      },
      "source": [
        "Cost seemed to increase because of precision error as the cost's value is extremely small in the order of -24. Took around 3830 iterations to converge to solution with $\\alpha$ = 0.1 beyond which precision errors restrict us going further.\n",
        "\n",
        "$\\alpha$ = 0.03:"
      ]
    },
    {
      "cell_type": "code",
      "execution_count": null,
      "metadata": {
        "id": "QC0tlUgHImqg",
        "outputId": "87b74935-0e6e-42ac-8aaa-84d3381d97e2"
      },
      "outputs": [
        {
          "name": "stdout",
          "output_type": "stream",
          "text": [
            "Final parameters: 199.9999999967735, 100.00000000522058\n",
            "iteration:     0,  J:      85000.0,  w:                  0.0,  b:                  0.0\n",
            "iteration:  1000,  J:     0.183909,  w:     198.819489411282,  b:     101.910106256624\n",
            "iteration:  2000,  J:   0.00229952,  w:     199.867995816037,  b:     100.213587256309\n",
            "iteration:  3000,  J:  2.87523e-05,  w:     199.985239349185,  b:     100.023883234715\n",
            "iteration:  4000,  J:  3.59508e-07,  w:     199.998349470404,  b:     100.002670612987\n",
            "iteration:  5000,  J:  4.49515e-09,  w:     199.999815438494,  b:      100.00029862679\n",
            "iteration:  6000,  J:  5.62056e-11,  w:     199.999979362412,  b:     100.000033392319\n",
            "iteration:  7000,  J:  7.02774e-13,  w:     199.999997692314,  b:     100.000003733915\n",
            "iteration:  8000,  J:  8.78721e-15,  w:     199.999999741955,  b:     100.000000417525\n",
            "iteration:  9000,  J:  1.09873e-16,  w:     199.999999971146,  b:     100.000000046688\n",
            "iteration: 10000,  J:  1.37376e-18,  w:     199.999999996774,  b:     100.000000005221\n"
          ]
        }
      ],
      "source": [
        "w,b,J_hist,w_hist,b_hist  = linear_model_gradient_descent(x_train,y_train,w_in,b_in,10000,0.03)\n",
        "print(f'Final parameters: {w}, {b}')\n",
        "for i in range(min(11,len(J_hist))):\n",
        "    iter = i if len(J_hist)<11 else ((len(J_hist)-1)*i)//10\n",
        "    print(f'iteration: {iter:5},  J: {J_hist[iter]:12.6},  w: {w_hist[iter]:20.15},  b: {b_hist[iter]:20.15}')"
      ]
    },
    {
      "cell_type": "markdown",
      "metadata": {
        "id": "gzG3UPjJImqg"
      },
      "source": [
        "Finished all 10K iterations without the value of cost going in the order of -24. Learning rate at 0.03 is acceptable although less optimum than 0.1 for this case.\n",
        "\n",
        "Try $\\alpha$ = 0.8:"
      ]
    },
    {
      "cell_type": "code",
      "execution_count": null,
      "metadata": {
        "id": "SJV35yGeImqg",
        "outputId": "2bbbc6f2-3cc7-42e9-a2a6-620c9465d89a"
      },
      "outputs": [
        {
          "name": "stdout",
          "output_type": "stream",
          "text": [
            "Cost increased from 85000.0 to 257800.0!\n",
            "Final parameters: 520.0, 320.0\n",
            "iteration:     0,  J:      85000.0,  w:                  0.0,  b:                  0.0\n",
            "iteration:     1,  J:    2.578e+05,  w:                520.0,  b:                320.0\n"
          ]
        }
      ],
      "source": [
        "w,b,J_hist,w_hist,b_hist  = linear_model_gradient_descent(x_train,y_train,w_in,b_in,10000,0.8)\n",
        "print(f'Final parameters: {w}, {b}')\n",
        "for i in range(min(11,len(J_hist))):\n",
        "    iter = i if len(J_hist)<11 else ((len(J_hist)-1)*i)//10\n",
        "    print(f'iteration: {iter:5},  J: {J_hist[iter]:12.6},  w: {w_hist[iter]:20.15},  b: {b_hist[iter]:20.15}')"
      ]
    },
    {
      "cell_type": "markdown",
      "metadata": {
        "id": "VEfGo0k2Imqg"
      },
      "source": [
        "Starts to diverge with a really large $\\alpha$ such as 0.8"
      ]
    },
    {
      "cell_type": "markdown",
      "metadata": {
        "id": "rCNMDrBZImqg"
      },
      "source": [
        "#### Normal Equation Solution"
      ]
    },
    {
      "cell_type": "code",
      "execution_count": null,
      "metadata": {
        "id": "DUUXhE64Imqg",
        "outputId": "1859ce89-ad69-406e-a46c-b6c7f398efd6"
      },
      "outputs": [
        {
          "data": {
            "text/plain": [
              "array([100., 200.])"
            ]
          },
          "execution_count": 338,
          "metadata": {},
          "output_type": "execute_result"
        }
      ],
      "source": [
        "linear_model_sol_normal_eq(x_train,y_train)"
      ]
    },
    {
      "cell_type": "markdown",
      "metadata": {
        "id": "9d1TfiHxImqg"
      },
      "source": [
        "### Multiple Variable Example"
      ]
    },
    {
      "cell_type": "code",
      "execution_count": null,
      "metadata": {
        "id": "GQNAAof2Imqg"
      },
      "outputs": [],
      "source": [
        "X_train = np.array([[2104, 5, 1, 45], [1416, 3, 2, 40], [852, 2, 1, 35]])\n",
        "y_train = np.array([460, 232, 178])"
      ]
    },
    {
      "cell_type": "code",
      "execution_count": null,
      "metadata": {
        "id": "sDEm1qRzImqg"
      },
      "outputs": [],
      "source": [
        "w_in, b_in = np.zeros_like(X_train[0]),0."
      ]
    },
    {
      "cell_type": "code",
      "execution_count": null,
      "metadata": {
        "id": "QO40LwZZImqg",
        "outputId": "7f963d54-f7a2-42ff-c853-2c2143451bb6"
      },
      "outputs": [
        {
          "name": "stdout",
          "output_type": "stream",
          "text": [
            "Final parameters: [ 0.21184806  0.01985303 -0.06605406 -0.37678891], -0.012482833827459511\n",
            "iteration:     0,  J:      49518.0,  w: [0 0 0 0],  b:                  0.0\n",
            "iteration:  1000,  J:      690.745,  w: [ 0.20325556  0.00243834 -0.00670331 -0.03785026],  b: -0.00130522000248555\n",
            "iteration:  2000,  J:      684.735,  w: [ 0.20431599  0.00440327 -0.01351177 -0.07967923],  b: -0.00269389425556291\n",
            "iteration:  3000,  J:      679.033,  w: [ 0.20534833  0.00636025 -0.02026341 -0.12040048],  b: -0.00404358625715419\n",
            "iteration:  4000,  J:      673.623,  w: [ 0.20635333  0.00830948 -0.02695971 -0.16004319],  b: -0.00535532247830027\n",
            "iteration:  5000,  J:       668.49,  w: [ 0.2073317   0.01025116 -0.03360213 -0.19863575],  b: -0.00663010236578055\n",
            "iteration:  6000,  J:       663.62,  w: [ 0.20828414  0.01218549 -0.04019208 -0.23620581],  b: -0.00786889905358973\n",
            "iteration:  7000,  J:      658.998,  w: [ 0.20921135  0.01411266 -0.04673093 -0.27278028],  b: -0.00907266005568347\n",
            "iteration:  8000,  J:      654.612,  w: [ 0.21011397  0.01603285 -0.05322002 -0.30838539],  b:  -0.0102423079404858\n",
            "iteration:  9000,  J:       650.45,  w: [ 0.21099267  0.01794625 -0.05966064 -0.34304665],  b:  -0.0113787409876383\n",
            "iteration: 10000,  J:      646.499,  w: [ 0.21184806  0.01985303 -0.06605406 -0.37678891],  b:  -0.0124828338274595\n"
          ]
        }
      ],
      "source": [
        "w,b,J_hist,w_hist,b_hist  = linear_model_gradient_descent(X_train,y_train,w_in,b_in,10000,0.0000003)\n",
        "print(f'Final parameters: {w}, {b}')\n",
        "for i in range(min(11,len(J_hist))):\n",
        "    iter = i if len(J_hist)<11 else ((len(J_hist)-1)*i)//10\n",
        "    print(f'iteration: {iter:5},  J: {J_hist[iter]:12.6},  w: {w_hist[iter]},  b: {b_hist[iter]:20.15}')"
      ]
    },
    {
      "cell_type": "markdown",
      "metadata": {
        "id": "EU2pDgGuImqg"
      },
      "source": [
        "Lets try again with these new parameters, for another round of 10K iterations"
      ]
    },
    {
      "cell_type": "code",
      "execution_count": null,
      "metadata": {
        "id": "vmDeQiJWImqg",
        "outputId": "28a6a1df-5a70-4543-89af-ef8e2aabda60"
      },
      "outputs": [
        {
          "name": "stdout",
          "output_type": "stream",
          "text": [
            "Final parameters: [ 0.21924778  0.03859224 -0.1276486  -0.66868711], -0.021921758941350195\n",
            "iteration:     0,  J:      646.499,  w: [ 0.21184806  0.01985303 -0.06605406 -0.37678891],  b:  -0.0124828338274595\n",
            "iteration:  1000,  J:       642.75,  w: [ 0.21268077  0.02175336 -0.07240153 -0.40963637],  b:  -0.0135554380635682\n",
            "iteration:  2000,  J:      639.192,  w: [ 0.21349139  0.02364741 -0.07870423 -0.44161258],  b:  -0.0145973828791155\n",
            "iteration:  3000,  J:      635.814,  w: [ 0.2142805   0.02553533 -0.08496335 -0.47274048],  b:  -0.0156094756270555\n",
            "iteration:  4000,  J:      632.607,  w: [ 0.21504867  0.0274173  -0.09118001 -0.50304241],  b:  -0.0165925024048768\n",
            "iteration:  5000,  J:      629.563,  w: [ 0.21579645  0.02929346 -0.09735533 -0.53254012],  b:  -0.0175472286142021\n",
            "iteration:  6000,  J:      626.673,  w: [ 0.21652437  0.03116396 -0.10349039 -0.56125477],  b:  -0.0184743995056552\n",
            "iteration:  7000,  J:      623.928,  w: [ 0.21723296  0.03302895 -0.10958623 -0.58920698],  b:  -0.0193747407093832\n",
            "iteration:  8000,  J:      621.322,  w: [ 0.21792274  0.03488857 -0.11564389 -0.61641683],  b:  -0.0202489587516111\n",
            "iteration:  9000,  J:      618.847,  w: [ 0.21859418  0.03674295 -0.12166436 -0.64290386],  b:   -0.021097741557598\n",
            "iteration: 10000,  J:      616.497,  w: [ 0.21924778  0.03859224 -0.1276486  -0.66868711],  b:  -0.0219217589413502\n"
          ]
        }
      ],
      "source": [
        "w_in, b_in = w,b\n",
        "w,b,J_hist,w_hist,b_hist  = linear_model_gradient_descent(X_train,y_train,w_in,b_in,10000,0.0000003)\n",
        "print(f'Final parameters: {w}, {b}')\n",
        "for i in range(min(11,len(J_hist))):\n",
        "    iter = i if len(J_hist)<11 else ((len(J_hist)-1)*i)//10\n",
        "    print(f'iteration: {iter:5},  J: {J_hist[iter]:12.6},  w: {w_hist[iter]},  b: {b_hist[iter]:20.15}')"
      ]
    },
    {
      "cell_type": "markdown",
      "metadata": {
        "id": "TRVKWqIEImqg"
      },
      "source": [
        "The cost is still decreasing at an extremely low rate and partly because learning rate is very low, increasing the learning rate makes the process diverge. Lets look at actual solution by normal equation method."
      ]
    },
    {
      "cell_type": "code",
      "execution_count": null,
      "metadata": {
        "id": "mODvbwZrImqg",
        "outputId": "b0358087-135e-45c0-b52a-7ddfdc8dc264"
      },
      "outputs": [
        {
          "ename": "LinAlgError",
          "evalue": "Singular matrix",
          "output_type": "error",
          "traceback": [
            "\u001b[0;31m---------------------------------------------------------------------------\u001b[0m",
            "\u001b[0;31mLinAlgError\u001b[0m                               Traceback (most recent call last)",
            "Cell \u001b[0;32mIn[14], line 1\u001b[0m\n\u001b[0;32m----> 1\u001b[0m \u001b[43mlinear_model_sol_normal_eq\u001b[49m\u001b[43m(\u001b[49m\u001b[43mX_train\u001b[49m\u001b[43m,\u001b[49m\u001b[43my_train\u001b[49m\u001b[43m)\u001b[49m\n",
            "Cell \u001b[0;32mIn[13], line 6\u001b[0m, in \u001b[0;36mlinear_model_sol_normal_eq\u001b[0;34m(X, y)\u001b[0m\n\u001b[1;32m      2\u001b[0m \u001b[38;5;250m\u001b[39m\u001b[38;5;124;03m\"\"\"\u001b[39;00m\n\u001b[1;32m      3\u001b[0m \u001b[38;5;124;03mReturns solution (1d array) of Linear Regression by normal equation method. 1st component is 'b'\u001b[39;00m\n\u001b[1;32m      4\u001b[0m \u001b[38;5;124;03m\"\"\"\u001b[39;00m\n\u001b[1;32m      5\u001b[0m X\u001b[38;5;241m=\u001b[39mnp\u001b[38;5;241m.\u001b[39mc_[np\u001b[38;5;241m.\u001b[39mones(\u001b[38;5;28mlen\u001b[39m(X)),X]\n\u001b[0;32m----> 6\u001b[0m theta \u001b[38;5;241m=\u001b[39m \u001b[43mnp\u001b[49m\u001b[38;5;241;43m.\u001b[39;49m\u001b[43mlinalg\u001b[49m\u001b[38;5;241;43m.\u001b[39;49m\u001b[43minv\u001b[49m\u001b[43m(\u001b[49m\u001b[43m(\u001b[49m\u001b[43mX\u001b[49m\u001b[38;5;241;43m.\u001b[39;49m\u001b[43mT\u001b[49m\u001b[38;5;129;43m@X\u001b[39;49m\u001b[43m)\u001b[49m\u001b[43m)\u001b[49m\u001b[38;5;129m@X\u001b[39m\u001b[38;5;241m.\u001b[39mT\u001b[38;5;129m@y\u001b[39m\n\u001b[1;32m      7\u001b[0m \u001b[38;5;28;01mreturn\u001b[39;00m theta\n",
            "File \u001b[0;32m~/.venvs/tf/lib/python3.12/site-packages/numpy/linalg/linalg.py:561\u001b[0m, in \u001b[0;36minv\u001b[0;34m(a)\u001b[0m\n\u001b[1;32m    559\u001b[0m signature \u001b[38;5;241m=\u001b[39m \u001b[38;5;124m'\u001b[39m\u001b[38;5;124mD->D\u001b[39m\u001b[38;5;124m'\u001b[39m \u001b[38;5;28;01mif\u001b[39;00m isComplexType(t) \u001b[38;5;28;01melse\u001b[39;00m \u001b[38;5;124m'\u001b[39m\u001b[38;5;124md->d\u001b[39m\u001b[38;5;124m'\u001b[39m\n\u001b[1;32m    560\u001b[0m extobj \u001b[38;5;241m=\u001b[39m get_linalg_error_extobj(_raise_linalgerror_singular)\n\u001b[0;32m--> 561\u001b[0m ainv \u001b[38;5;241m=\u001b[39m \u001b[43m_umath_linalg\u001b[49m\u001b[38;5;241;43m.\u001b[39;49m\u001b[43minv\u001b[49m\u001b[43m(\u001b[49m\u001b[43ma\u001b[49m\u001b[43m,\u001b[49m\u001b[43m \u001b[49m\u001b[43msignature\u001b[49m\u001b[38;5;241;43m=\u001b[39;49m\u001b[43msignature\u001b[49m\u001b[43m,\u001b[49m\u001b[43m \u001b[49m\u001b[43mextobj\u001b[49m\u001b[38;5;241;43m=\u001b[39;49m\u001b[43mextobj\u001b[49m\u001b[43m)\u001b[49m\n\u001b[1;32m    562\u001b[0m \u001b[38;5;28;01mreturn\u001b[39;00m wrap(ainv\u001b[38;5;241m.\u001b[39mastype(result_t, copy\u001b[38;5;241m=\u001b[39m\u001b[38;5;28;01mFalse\u001b[39;00m))\n",
            "File \u001b[0;32m~/.venvs/tf/lib/python3.12/site-packages/numpy/linalg/linalg.py:112\u001b[0m, in \u001b[0;36m_raise_linalgerror_singular\u001b[0;34m(err, flag)\u001b[0m\n\u001b[1;32m    111\u001b[0m \u001b[38;5;28;01mdef\u001b[39;00m \u001b[38;5;21m_raise_linalgerror_singular\u001b[39m(err, flag):\n\u001b[0;32m--> 112\u001b[0m     \u001b[38;5;28;01mraise\u001b[39;00m LinAlgError(\u001b[38;5;124m\"\u001b[39m\u001b[38;5;124mSingular matrix\u001b[39m\u001b[38;5;124m\"\u001b[39m)\n",
            "\u001b[0;31mLinAlgError\u001b[0m: Singular matrix"
          ]
        }
      ],
      "source": [
        "linear_model_sol_normal_eq(X_train,y_train)"
      ]
    },
    {
      "cell_type": "markdown",
      "metadata": {
        "id": "egmK0C9AImqh"
      },
      "source": [
        "We can't seem to solve this via normal equation method as we can see easily that we dont have enough examples (4 features but only 3 training examples, for 4 features we need 5 training examples all of which must be linearly independent to get a unique solution).\n",
        "\n",
        "Lets try scipy.linalg.lstsq"
      ]
    },
    {
      "cell_type": "code",
      "execution_count": null,
      "metadata": {
        "id": "6ac7uOEXImqh"
      },
      "outputs": [],
      "source": [
        "from scipy.linalg import lstsq"
      ]
    },
    {
      "cell_type": "code",
      "execution_count": null,
      "metadata": {
        "id": "CE9Vgh4yImqh",
        "outputId": "15cf2f6f-85f9-42aa-ddcd-188e3e5544ad"
      },
      "outputs": [
        {
          "data": {
            "text/plain": [
              "(array([  1.240339  ,   0.15440335,  23.47118976, -65.69139736,\n",
              "          1.82734354]),\n",
              " array([], dtype=float64),\n",
              " 3,\n",
              " array([2.67626708e+03, 1.63339374e+01, 8.43087434e-01]))"
            ]
          },
          "execution_count": 33,
          "metadata": {},
          "output_type": "execute_result"
        }
      ],
      "source": [
        "solution = lstsq(np.c_[np.ones(len(X_train)),X_train],y_train)\n",
        "solution"
      ]
    },
    {
      "cell_type": "markdown",
      "metadata": {
        "id": "1C9Z93kJImqh"
      },
      "source": [
        "So while linear_model_sol_normal_eq failed because we didn't solve for cases where they may be infinite many solutions, linalg.lstsq gives 1 of the infinitely many solutions"
      ]
    },
    {
      "cell_type": "code",
      "execution_count": null,
      "metadata": {
        "id": "1tWL0gmjImqh",
        "outputId": "f9777ee1-915c-4932-b409-6db634783d8c"
      },
      "outputs": [
        {
          "data": {
            "text/plain": [
              "array([ 5.68434189e-13, -7.10542736e-13, -4.83169060e-13])"
            ]
          },
          "execution_count": 34,
          "metadata": {},
          "output_type": "execute_result"
        }
      ],
      "source": [
        "np.dot(np.c_[np.ones(len(X_train)),X_train],solution[0])-y_train"
      ]
    },
    {
      "cell_type": "code",
      "execution_count": null,
      "metadata": {
        "id": "md6ZcYMXImqh"
      },
      "outputs": [],
      "source": [
        "from sklearn.linear_model import LinearRegression"
      ]
    },
    {
      "cell_type": "code",
      "execution_count": null,
      "metadata": {
        "id": "DTfrIWLVImqh"
      },
      "outputs": [],
      "source": [
        "lr = LinearRegression()"
      ]
    },
    {
      "cell_type": "code",
      "execution_count": null,
      "metadata": {
        "id": "fu33-JxNImqh",
        "outputId": "a39e760c-5a7e-4b10-f4cd-0a5a09ad9032"
      },
      "outputs": [
        {
          "data": {
            "text/html": [
              "<style>#sk-container-id-2 {\n",
              "  /* Definition of color scheme common for light and dark mode */\n",
              "  --sklearn-color-text: #000;\n",
              "  --sklearn-color-text-muted: #666;\n",
              "  --sklearn-color-line: gray;\n",
              "  /* Definition of color scheme for unfitted estimators */\n",
              "  --sklearn-color-unfitted-level-0: #fff5e6;\n",
              "  --sklearn-color-unfitted-level-1: #f6e4d2;\n",
              "  --sklearn-color-unfitted-level-2: #ffe0b3;\n",
              "  --sklearn-color-unfitted-level-3: chocolate;\n",
              "  /* Definition of color scheme for fitted estimators */\n",
              "  --sklearn-color-fitted-level-0: #f0f8ff;\n",
              "  --sklearn-color-fitted-level-1: #d4ebff;\n",
              "  --sklearn-color-fitted-level-2: #b3dbfd;\n",
              "  --sklearn-color-fitted-level-3: cornflowerblue;\n",
              "\n",
              "  /* Specific color for light theme */\n",
              "  --sklearn-color-text-on-default-background: var(--sg-text-color, var(--theme-code-foreground, var(--jp-content-font-color1, black)));\n",
              "  --sklearn-color-background: var(--sg-background-color, var(--theme-background, var(--jp-layout-color0, white)));\n",
              "  --sklearn-color-border-box: var(--sg-text-color, var(--theme-code-foreground, var(--jp-content-font-color1, black)));\n",
              "  --sklearn-color-icon: #696969;\n",
              "\n",
              "  @media (prefers-color-scheme: dark) {\n",
              "    /* Redefinition of color scheme for dark theme */\n",
              "    --sklearn-color-text-on-default-background: var(--sg-text-color, var(--theme-code-foreground, var(--jp-content-font-color1, white)));\n",
              "    --sklearn-color-background: var(--sg-background-color, var(--theme-background, var(--jp-layout-color0, #111)));\n",
              "    --sklearn-color-border-box: var(--sg-text-color, var(--theme-code-foreground, var(--jp-content-font-color1, white)));\n",
              "    --sklearn-color-icon: #878787;\n",
              "  }\n",
              "}\n",
              "\n",
              "#sk-container-id-2 {\n",
              "  color: var(--sklearn-color-text);\n",
              "}\n",
              "\n",
              "#sk-container-id-2 pre {\n",
              "  padding: 0;\n",
              "}\n",
              "\n",
              "#sk-container-id-2 input.sk-hidden--visually {\n",
              "  border: 0;\n",
              "  clip: rect(1px 1px 1px 1px);\n",
              "  clip: rect(1px, 1px, 1px, 1px);\n",
              "  height: 1px;\n",
              "  margin: -1px;\n",
              "  overflow: hidden;\n",
              "  padding: 0;\n",
              "  position: absolute;\n",
              "  width: 1px;\n",
              "}\n",
              "\n",
              "#sk-container-id-2 div.sk-dashed-wrapped {\n",
              "  border: 1px dashed var(--sklearn-color-line);\n",
              "  margin: 0 0.4em 0.5em 0.4em;\n",
              "  box-sizing: border-box;\n",
              "  padding-bottom: 0.4em;\n",
              "  background-color: var(--sklearn-color-background);\n",
              "}\n",
              "\n",
              "#sk-container-id-2 div.sk-container {\n",
              "  /* jupyter's `normalize.less` sets `[hidden] { display: none; }`\n",
              "     but bootstrap.min.css set `[hidden] { display: none !important; }`\n",
              "     so we also need the `!important` here to be able to override the\n",
              "     default hidden behavior on the sphinx rendered scikit-learn.org.\n",
              "     See: https://github.com/scikit-learn/scikit-learn/issues/21755 */\n",
              "  display: inline-block !important;\n",
              "  position: relative;\n",
              "}\n",
              "\n",
              "#sk-container-id-2 div.sk-text-repr-fallback {\n",
              "  display: none;\n",
              "}\n",
              "\n",
              "div.sk-parallel-item,\n",
              "div.sk-serial,\n",
              "div.sk-item {\n",
              "  /* draw centered vertical line to link estimators */\n",
              "  background-image: linear-gradient(var(--sklearn-color-text-on-default-background), var(--sklearn-color-text-on-default-background));\n",
              "  background-size: 2px 100%;\n",
              "  background-repeat: no-repeat;\n",
              "  background-position: center center;\n",
              "}\n",
              "\n",
              "/* Parallel-specific style estimator block */\n",
              "\n",
              "#sk-container-id-2 div.sk-parallel-item::after {\n",
              "  content: \"\";\n",
              "  width: 100%;\n",
              "  border-bottom: 2px solid var(--sklearn-color-text-on-default-background);\n",
              "  flex-grow: 1;\n",
              "}\n",
              "\n",
              "#sk-container-id-2 div.sk-parallel {\n",
              "  display: flex;\n",
              "  align-items: stretch;\n",
              "  justify-content: center;\n",
              "  background-color: var(--sklearn-color-background);\n",
              "  position: relative;\n",
              "}\n",
              "\n",
              "#sk-container-id-2 div.sk-parallel-item {\n",
              "  display: flex;\n",
              "  flex-direction: column;\n",
              "}\n",
              "\n",
              "#sk-container-id-2 div.sk-parallel-item:first-child::after {\n",
              "  align-self: flex-end;\n",
              "  width: 50%;\n",
              "}\n",
              "\n",
              "#sk-container-id-2 div.sk-parallel-item:last-child::after {\n",
              "  align-self: flex-start;\n",
              "  width: 50%;\n",
              "}\n",
              "\n",
              "#sk-container-id-2 div.sk-parallel-item:only-child::after {\n",
              "  width: 0;\n",
              "}\n",
              "\n",
              "/* Serial-specific style estimator block */\n",
              "\n",
              "#sk-container-id-2 div.sk-serial {\n",
              "  display: flex;\n",
              "  flex-direction: column;\n",
              "  align-items: center;\n",
              "  background-color: var(--sklearn-color-background);\n",
              "  padding-right: 1em;\n",
              "  padding-left: 1em;\n",
              "}\n",
              "\n",
              "\n",
              "/* Toggleable style: style used for estimator/Pipeline/ColumnTransformer box that is\n",
              "clickable and can be expanded/collapsed.\n",
              "- Pipeline and ColumnTransformer use this feature and define the default style\n",
              "- Estimators will overwrite some part of the style using the `sk-estimator` class\n",
              "*/\n",
              "\n",
              "/* Pipeline and ColumnTransformer style (default) */\n",
              "\n",
              "#sk-container-id-2 div.sk-toggleable {\n",
              "  /* Default theme specific background. It is overwritten whether we have a\n",
              "  specific estimator or a Pipeline/ColumnTransformer */\n",
              "  background-color: var(--sklearn-color-background);\n",
              "}\n",
              "\n",
              "/* Toggleable label */\n",
              "#sk-container-id-2 label.sk-toggleable__label {\n",
              "  cursor: pointer;\n",
              "  display: flex;\n",
              "  width: 100%;\n",
              "  margin-bottom: 0;\n",
              "  padding: 0.5em;\n",
              "  box-sizing: border-box;\n",
              "  text-align: center;\n",
              "  align-items: start;\n",
              "  justify-content: space-between;\n",
              "  gap: 0.5em;\n",
              "}\n",
              "\n",
              "#sk-container-id-2 label.sk-toggleable__label .caption {\n",
              "  font-size: 0.6rem;\n",
              "  font-weight: lighter;\n",
              "  color: var(--sklearn-color-text-muted);\n",
              "}\n",
              "\n",
              "#sk-container-id-2 label.sk-toggleable__label-arrow:before {\n",
              "  /* Arrow on the left of the label */\n",
              "  content: \"▸\";\n",
              "  float: left;\n",
              "  margin-right: 0.25em;\n",
              "  color: var(--sklearn-color-icon);\n",
              "}\n",
              "\n",
              "#sk-container-id-2 label.sk-toggleable__label-arrow:hover:before {\n",
              "  color: var(--sklearn-color-text);\n",
              "}\n",
              "\n",
              "/* Toggleable content - dropdown */\n",
              "\n",
              "#sk-container-id-2 div.sk-toggleable__content {\n",
              "  max-height: 0;\n",
              "  max-width: 0;\n",
              "  overflow: hidden;\n",
              "  text-align: left;\n",
              "  /* unfitted */\n",
              "  background-color: var(--sklearn-color-unfitted-level-0);\n",
              "}\n",
              "\n",
              "#sk-container-id-2 div.sk-toggleable__content.fitted {\n",
              "  /* fitted */\n",
              "  background-color: var(--sklearn-color-fitted-level-0);\n",
              "}\n",
              "\n",
              "#sk-container-id-2 div.sk-toggleable__content pre {\n",
              "  margin: 0.2em;\n",
              "  border-radius: 0.25em;\n",
              "  color: var(--sklearn-color-text);\n",
              "  /* unfitted */\n",
              "  background-color: var(--sklearn-color-unfitted-level-0);\n",
              "}\n",
              "\n",
              "#sk-container-id-2 div.sk-toggleable__content.fitted pre {\n",
              "  /* unfitted */\n",
              "  background-color: var(--sklearn-color-fitted-level-0);\n",
              "}\n",
              "\n",
              "#sk-container-id-2 input.sk-toggleable__control:checked~div.sk-toggleable__content {\n",
              "  /* Expand drop-down */\n",
              "  max-height: 200px;\n",
              "  max-width: 100%;\n",
              "  overflow: auto;\n",
              "}\n",
              "\n",
              "#sk-container-id-2 input.sk-toggleable__control:checked~label.sk-toggleable__label-arrow:before {\n",
              "  content: \"▾\";\n",
              "}\n",
              "\n",
              "/* Pipeline/ColumnTransformer-specific style */\n",
              "\n",
              "#sk-container-id-2 div.sk-label input.sk-toggleable__control:checked~label.sk-toggleable__label {\n",
              "  color: var(--sklearn-color-text);\n",
              "  background-color: var(--sklearn-color-unfitted-level-2);\n",
              "}\n",
              "\n",
              "#sk-container-id-2 div.sk-label.fitted input.sk-toggleable__control:checked~label.sk-toggleable__label {\n",
              "  background-color: var(--sklearn-color-fitted-level-2);\n",
              "}\n",
              "\n",
              "/* Estimator-specific style */\n",
              "\n",
              "/* Colorize estimator box */\n",
              "#sk-container-id-2 div.sk-estimator input.sk-toggleable__control:checked~label.sk-toggleable__label {\n",
              "  /* unfitted */\n",
              "  background-color: var(--sklearn-color-unfitted-level-2);\n",
              "}\n",
              "\n",
              "#sk-container-id-2 div.sk-estimator.fitted input.sk-toggleable__control:checked~label.sk-toggleable__label {\n",
              "  /* fitted */\n",
              "  background-color: var(--sklearn-color-fitted-level-2);\n",
              "}\n",
              "\n",
              "#sk-container-id-2 div.sk-label label.sk-toggleable__label,\n",
              "#sk-container-id-2 div.sk-label label {\n",
              "  /* The background is the default theme color */\n",
              "  color: var(--sklearn-color-text-on-default-background);\n",
              "}\n",
              "\n",
              "/* On hover, darken the color of the background */\n",
              "#sk-container-id-2 div.sk-label:hover label.sk-toggleable__label {\n",
              "  color: var(--sklearn-color-text);\n",
              "  background-color: var(--sklearn-color-unfitted-level-2);\n",
              "}\n",
              "\n",
              "/* Label box, darken color on hover, fitted */\n",
              "#sk-container-id-2 div.sk-label.fitted:hover label.sk-toggleable__label.fitted {\n",
              "  color: var(--sklearn-color-text);\n",
              "  background-color: var(--sklearn-color-fitted-level-2);\n",
              "}\n",
              "\n",
              "/* Estimator label */\n",
              "\n",
              "#sk-container-id-2 div.sk-label label {\n",
              "  font-family: monospace;\n",
              "  font-weight: bold;\n",
              "  display: inline-block;\n",
              "  line-height: 1.2em;\n",
              "}\n",
              "\n",
              "#sk-container-id-2 div.sk-label-container {\n",
              "  text-align: center;\n",
              "}\n",
              "\n",
              "/* Estimator-specific */\n",
              "#sk-container-id-2 div.sk-estimator {\n",
              "  font-family: monospace;\n",
              "  border: 1px dotted var(--sklearn-color-border-box);\n",
              "  border-radius: 0.25em;\n",
              "  box-sizing: border-box;\n",
              "  margin-bottom: 0.5em;\n",
              "  /* unfitted */\n",
              "  background-color: var(--sklearn-color-unfitted-level-0);\n",
              "}\n",
              "\n",
              "#sk-container-id-2 div.sk-estimator.fitted {\n",
              "  /* fitted */\n",
              "  background-color: var(--sklearn-color-fitted-level-0);\n",
              "}\n",
              "\n",
              "/* on hover */\n",
              "#sk-container-id-2 div.sk-estimator:hover {\n",
              "  /* unfitted */\n",
              "  background-color: var(--sklearn-color-unfitted-level-2);\n",
              "}\n",
              "\n",
              "#sk-container-id-2 div.sk-estimator.fitted:hover {\n",
              "  /* fitted */\n",
              "  background-color: var(--sklearn-color-fitted-level-2);\n",
              "}\n",
              "\n",
              "/* Specification for estimator info (e.g. \"i\" and \"?\") */\n",
              "\n",
              "/* Common style for \"i\" and \"?\" */\n",
              "\n",
              ".sk-estimator-doc-link,\n",
              "a:link.sk-estimator-doc-link,\n",
              "a:visited.sk-estimator-doc-link {\n",
              "  float: right;\n",
              "  font-size: smaller;\n",
              "  line-height: 1em;\n",
              "  font-family: monospace;\n",
              "  background-color: var(--sklearn-color-background);\n",
              "  border-radius: 1em;\n",
              "  height: 1em;\n",
              "  width: 1em;\n",
              "  text-decoration: none !important;\n",
              "  margin-left: 0.5em;\n",
              "  text-align: center;\n",
              "  /* unfitted */\n",
              "  border: var(--sklearn-color-unfitted-level-1) 1pt solid;\n",
              "  color: var(--sklearn-color-unfitted-level-1);\n",
              "}\n",
              "\n",
              ".sk-estimator-doc-link.fitted,\n",
              "a:link.sk-estimator-doc-link.fitted,\n",
              "a:visited.sk-estimator-doc-link.fitted {\n",
              "  /* fitted */\n",
              "  border: var(--sklearn-color-fitted-level-1) 1pt solid;\n",
              "  color: var(--sklearn-color-fitted-level-1);\n",
              "}\n",
              "\n",
              "/* On hover */\n",
              "div.sk-estimator:hover .sk-estimator-doc-link:hover,\n",
              ".sk-estimator-doc-link:hover,\n",
              "div.sk-label-container:hover .sk-estimator-doc-link:hover,\n",
              ".sk-estimator-doc-link:hover {\n",
              "  /* unfitted */\n",
              "  background-color: var(--sklearn-color-unfitted-level-3);\n",
              "  color: var(--sklearn-color-background);\n",
              "  text-decoration: none;\n",
              "}\n",
              "\n",
              "div.sk-estimator.fitted:hover .sk-estimator-doc-link.fitted:hover,\n",
              ".sk-estimator-doc-link.fitted:hover,\n",
              "div.sk-label-container:hover .sk-estimator-doc-link.fitted:hover,\n",
              ".sk-estimator-doc-link.fitted:hover {\n",
              "  /* fitted */\n",
              "  background-color: var(--sklearn-color-fitted-level-3);\n",
              "  color: var(--sklearn-color-background);\n",
              "  text-decoration: none;\n",
              "}\n",
              "\n",
              "/* Span, style for the box shown on hovering the info icon */\n",
              ".sk-estimator-doc-link span {\n",
              "  display: none;\n",
              "  z-index: 9999;\n",
              "  position: relative;\n",
              "  font-weight: normal;\n",
              "  right: .2ex;\n",
              "  padding: .5ex;\n",
              "  margin: .5ex;\n",
              "  width: min-content;\n",
              "  min-width: 20ex;\n",
              "  max-width: 50ex;\n",
              "  color: var(--sklearn-color-text);\n",
              "  box-shadow: 2pt 2pt 4pt #999;\n",
              "  /* unfitted */\n",
              "  background: var(--sklearn-color-unfitted-level-0);\n",
              "  border: .5pt solid var(--sklearn-color-unfitted-level-3);\n",
              "}\n",
              "\n",
              ".sk-estimator-doc-link.fitted span {\n",
              "  /* fitted */\n",
              "  background: var(--sklearn-color-fitted-level-0);\n",
              "  border: var(--sklearn-color-fitted-level-3);\n",
              "}\n",
              "\n",
              ".sk-estimator-doc-link:hover span {\n",
              "  display: block;\n",
              "}\n",
              "\n",
              "/* \"?\"-specific style due to the `<a>` HTML tag */\n",
              "\n",
              "#sk-container-id-2 a.estimator_doc_link {\n",
              "  float: right;\n",
              "  font-size: 1rem;\n",
              "  line-height: 1em;\n",
              "  font-family: monospace;\n",
              "  background-color: var(--sklearn-color-background);\n",
              "  border-radius: 1rem;\n",
              "  height: 1rem;\n",
              "  width: 1rem;\n",
              "  text-decoration: none;\n",
              "  /* unfitted */\n",
              "  color: var(--sklearn-color-unfitted-level-1);\n",
              "  border: var(--sklearn-color-unfitted-level-1) 1pt solid;\n",
              "}\n",
              "\n",
              "#sk-container-id-2 a.estimator_doc_link.fitted {\n",
              "  /* fitted */\n",
              "  border: var(--sklearn-color-fitted-level-1) 1pt solid;\n",
              "  color: var(--sklearn-color-fitted-level-1);\n",
              "}\n",
              "\n",
              "/* On hover */\n",
              "#sk-container-id-2 a.estimator_doc_link:hover {\n",
              "  /* unfitted */\n",
              "  background-color: var(--sklearn-color-unfitted-level-3);\n",
              "  color: var(--sklearn-color-background);\n",
              "  text-decoration: none;\n",
              "}\n",
              "\n",
              "#sk-container-id-2 a.estimator_doc_link.fitted:hover {\n",
              "  /* fitted */\n",
              "  background-color: var(--sklearn-color-fitted-level-3);\n",
              "}\n",
              "</style><div id=\"sk-container-id-2\" class=\"sk-top-container\"><div class=\"sk-text-repr-fallback\"><pre>LinearRegression()</pre><b>In a Jupyter environment, please rerun this cell to show the HTML representation or trust the notebook. <br />On GitHub, the HTML representation is unable to render, please try loading this page with nbviewer.org.</b></div><div class=\"sk-container\" hidden><div class=\"sk-item\"><div class=\"sk-estimator fitted sk-toggleable\"><input class=\"sk-toggleable__control sk-hidden--visually\" id=\"sk-estimator-id-2\" type=\"checkbox\" checked><label for=\"sk-estimator-id-2\" class=\"sk-toggleable__label fitted sk-toggleable__label-arrow\"><div><div>LinearRegression</div></div><div><a class=\"sk-estimator-doc-link fitted\" rel=\"noreferrer\" target=\"_blank\" href=\"https://scikit-learn.org/1.6/modules/generated/sklearn.linear_model.LinearRegression.html\">?<span>Documentation for LinearRegression</span></a><span class=\"sk-estimator-doc-link fitted\">i<span>Fitted</span></span></div></label><div class=\"sk-toggleable__content fitted\"><pre>LinearRegression()</pre></div> </div></div></div></div>"
            ],
            "text/plain": [
              "LinearRegression()"
            ]
          },
          "execution_count": 37,
          "metadata": {},
          "output_type": "execute_result"
        }
      ],
      "source": [
        "lr.fit(X_train,y_train)"
      ]
    },
    {
      "cell_type": "code",
      "execution_count": null,
      "metadata": {
        "id": "MKEaXtwNImqh",
        "outputId": "8e3595ac-142d-45ec-a51d-247275947221"
      },
      "outputs": [
        {
          "data": {
            "text/plain": [
              "array([  0.39133535,  18.75376741, -53.36032453, -26.42131618])"
            ]
          },
          "execution_count": 38,
          "metadata": {},
          "output_type": "execute_result"
        }
      ],
      "source": [
        "lr.coef_"
      ]
    },
    {
      "cell_type": "code",
      "execution_count": null,
      "metadata": {
        "id": "QVlQUMRHImqh",
        "outputId": "617a9356-ea23-4dbe-9c83-31c8b4fa8d58"
      },
      "outputs": [
        {
          "data": {
            "text/plain": [
              "785.1811367994081"
            ]
          },
          "execution_count": 39,
          "metadata": {},
          "output_type": "execute_result"
        }
      ],
      "source": [
        "lr.intercept_"
      ]
    },
    {
      "cell_type": "code",
      "execution_count": null,
      "metadata": {
        "id": "ihEDhHMDImqh",
        "outputId": "609d6f8b-1512-4a6e-ae1a-e3eb631b5736"
      },
      "outputs": [
        {
          "data": {
            "text/plain": [
              "array([ 7.85181137e+02,  3.91335351e-01,  1.87537674e+01, -5.33603245e+01,\n",
              "       -2.64213162e+01])"
            ]
          },
          "execution_count": 41,
          "metadata": {},
          "output_type": "execute_result"
        }
      ],
      "source": [
        "np.append(lr.intercept_,lr.coef_)"
      ]
    },
    {
      "cell_type": "code",
      "execution_count": null,
      "metadata": {
        "id": "k_5wEULdImqh",
        "outputId": "6e479a70-9b7d-4d46-c1bf-04b2826daf1d"
      },
      "outputs": [
        {
          "data": {
            "text/plain": [
              "array([ 1.13686838e-13,  0.00000000e+00, -1.42108547e-13])"
            ]
          },
          "execution_count": 42,
          "metadata": {},
          "output_type": "execute_result"
        }
      ],
      "source": [
        "np.dot(np.c_[np.ones(len(X_train)),X_train],np.append(lr.intercept_,lr.coef_))-y_train"
      ]
    },
    {
      "cell_type": "markdown",
      "metadata": {
        "id": "zSolNEg9Imqh"
      },
      "source": [
        "We can see LinearRegression from scikit learn also gives 1 solution, which doesn't match with previous solution."
      ]
    },
    {
      "cell_type": "code",
      "execution_count": null,
      "metadata": {
        "id": "u_HRoqcsImqh"
      },
      "outputs": [],
      "source": []
    }
  ],
  "metadata": {
    "kernelspec": {
      "display_name": "tf",
      "language": "python",
      "name": "python3"
    },
    "language_info": {
      "codemirror_mode": {
        "name": "ipython",
        "version": 3
      },
      "file_extension": ".py",
      "mimetype": "text/x-python",
      "name": "python",
      "nbconvert_exporter": "python",
      "pygments_lexer": "ipython3",
      "version": "3.12.3"
    },
    "colab": {
      "provenance": [],
      "include_colab_link": true
    }
  },
  "nbformat": 4,
  "nbformat_minor": 0
}